{
 "cells": [
  {
   "cell_type": "markdown",
   "id": "e670e792",
   "metadata": {},
   "source": [
    "# Agricultural Dataset\n",
    "It explains the different commodities purchased across the state of Maharashtra\n",
    "\n",
    "1.APMC : Agricultural Produce Marketing Committee. It is a categorical variable. Places of different APMC are in it.\n",
    "\n",
    "2.Commodity : Names of commodities grown. Categorical.\n",
    "\n",
    "3.Year : Year of collection of the commodity at APMC.\n",
    "\n",
    "4.Month : Month of collection.\n",
    "\n",
    "5.arrivals_in_qtl : Quantity if commodity collected in quintals.\n",
    "\n",
    "6.min_price : Minimum price for the commodity.\n",
    "\n",
    "7.max_price : Maximum price for the commodity.\n",
    "\n",
    "8.modal_price : Target variable. Price given to farmers.\n",
    "\n",
    "9.date : Date of collection.\n",
    "\n",
    "10.district_name : Name of the district of APMC.\n",
    "\n",
    "11.state_name : Name of state(Maharashtra)"
   ]
  },
  {
   "cell_type": "code",
   "execution_count": 1,
   "id": "92ab0596",
   "metadata": {},
   "outputs": [],
   "source": [
    "#Import Libraries\n",
    "import numpy as np\n",
    "import pandas as pd\n",
    "import matplotlib.pyplot as plt\n",
    "import seaborn as sns"
   ]
  },
  {
   "cell_type": "code",
   "execution_count": 2,
   "id": "78a2e29d",
   "metadata": {},
   "outputs": [],
   "source": [
    "#Load the dataset into notebook\n",
    "df = pd.read_csv(r'Downloads\\Monthly_data_cmo.csv')"
   ]
  },
  {
   "cell_type": "code",
   "execution_count": 3,
   "id": "c6989e82",
   "metadata": {},
   "outputs": [
    {
     "data": {
      "text/html": [
       "<div>\n",
       "<style scoped>\n",
       "    .dataframe tbody tr th:only-of-type {\n",
       "        vertical-align: middle;\n",
       "    }\n",
       "\n",
       "    .dataframe tbody tr th {\n",
       "        vertical-align: top;\n",
       "    }\n",
       "\n",
       "    .dataframe thead th {\n",
       "        text-align: right;\n",
       "    }\n",
       "</style>\n",
       "<table border=\"1\" class=\"dataframe\">\n",
       "  <thead>\n",
       "    <tr style=\"text-align: right;\">\n",
       "      <th></th>\n",
       "      <th>APMC</th>\n",
       "      <th>Commodity</th>\n",
       "      <th>Year</th>\n",
       "      <th>Month</th>\n",
       "      <th>arrivals_in_qtl</th>\n",
       "      <th>min_price</th>\n",
       "      <th>max_price</th>\n",
       "      <th>modal_price</th>\n",
       "      <th>date</th>\n",
       "      <th>district_name</th>\n",
       "      <th>state_name</th>\n",
       "    </tr>\n",
       "  </thead>\n",
       "  <tbody>\n",
       "    <tr>\n",
       "      <th>0</th>\n",
       "      <td>Ahmednagar</td>\n",
       "      <td>Bajri</td>\n",
       "      <td>2015</td>\n",
       "      <td>April</td>\n",
       "      <td>79</td>\n",
       "      <td>1406</td>\n",
       "      <td>1538</td>\n",
       "      <td>1463</td>\n",
       "      <td>2015-04</td>\n",
       "      <td>Ahmadnagar</td>\n",
       "      <td>Maharashtra</td>\n",
       "    </tr>\n",
       "    <tr>\n",
       "      <th>1</th>\n",
       "      <td>Ahmednagar</td>\n",
       "      <td>Bajri</td>\n",
       "      <td>2016</td>\n",
       "      <td>April</td>\n",
       "      <td>106</td>\n",
       "      <td>1788</td>\n",
       "      <td>1925</td>\n",
       "      <td>1875</td>\n",
       "      <td>2016-04</td>\n",
       "      <td>Ahmadnagar</td>\n",
       "      <td>Maharashtra</td>\n",
       "    </tr>\n",
       "    <tr>\n",
       "      <th>2</th>\n",
       "      <td>Ahmednagar</td>\n",
       "      <td>Wheat(Husked)</td>\n",
       "      <td>2015</td>\n",
       "      <td>April</td>\n",
       "      <td>1253</td>\n",
       "      <td>1572</td>\n",
       "      <td>1890</td>\n",
       "      <td>1731</td>\n",
       "      <td>2015-04</td>\n",
       "      <td>Ahmadnagar</td>\n",
       "      <td>Maharashtra</td>\n",
       "    </tr>\n",
       "    <tr>\n",
       "      <th>3</th>\n",
       "      <td>Ahmednagar</td>\n",
       "      <td>Wheat(Husked)</td>\n",
       "      <td>2016</td>\n",
       "      <td>April</td>\n",
       "      <td>387</td>\n",
       "      <td>1750</td>\n",
       "      <td>2220</td>\n",
       "      <td>1999</td>\n",
       "      <td>2016-04</td>\n",
       "      <td>Ahmadnagar</td>\n",
       "      <td>Maharashtra</td>\n",
       "    </tr>\n",
       "    <tr>\n",
       "      <th>4</th>\n",
       "      <td>Ahmednagar</td>\n",
       "      <td>Sorgum(Jawar)</td>\n",
       "      <td>2015</td>\n",
       "      <td>April</td>\n",
       "      <td>3825</td>\n",
       "      <td>1600</td>\n",
       "      <td>2200</td>\n",
       "      <td>1900</td>\n",
       "      <td>2015-04</td>\n",
       "      <td>Ahmadnagar</td>\n",
       "      <td>Maharashtra</td>\n",
       "    </tr>\n",
       "  </tbody>\n",
       "</table>\n",
       "</div>"
      ],
      "text/plain": [
       "         APMC      Commodity  Year  Month  arrivals_in_qtl  min_price  \\\n",
       "0  Ahmednagar          Bajri  2015  April               79       1406   \n",
       "1  Ahmednagar          Bajri  2016  April              106       1788   \n",
       "2  Ahmednagar  Wheat(Husked)  2015  April             1253       1572   \n",
       "3  Ahmednagar  Wheat(Husked)  2016  April              387       1750   \n",
       "4  Ahmednagar  Sorgum(Jawar)  2015  April             3825       1600   \n",
       "\n",
       "   max_price  modal_price     date district_name   state_name  \n",
       "0       1538         1463  2015-04    Ahmadnagar  Maharashtra  \n",
       "1       1925         1875  2016-04    Ahmadnagar  Maharashtra  \n",
       "2       1890         1731  2015-04    Ahmadnagar  Maharashtra  \n",
       "3       2220         1999  2016-04    Ahmadnagar  Maharashtra  \n",
       "4       2200         1900  2015-04    Ahmadnagar  Maharashtra  "
      ]
     },
     "execution_count": 3,
     "metadata": {},
     "output_type": "execute_result"
    }
   ],
   "source": [
    "#First 5 rows\n",
    "df.head()"
   ]
  },
  {
   "cell_type": "code",
   "execution_count": 4,
   "id": "06cf9397",
   "metadata": {},
   "outputs": [
    {
     "data": {
      "text/html": [
       "<div>\n",
       "<style scoped>\n",
       "    .dataframe tbody tr th:only-of-type {\n",
       "        vertical-align: middle;\n",
       "    }\n",
       "\n",
       "    .dataframe tbody tr th {\n",
       "        vertical-align: top;\n",
       "    }\n",
       "\n",
       "    .dataframe thead th {\n",
       "        text-align: right;\n",
       "    }\n",
       "</style>\n",
       "<table border=\"1\" class=\"dataframe\">\n",
       "  <thead>\n",
       "    <tr style=\"text-align: right;\">\n",
       "      <th></th>\n",
       "      <th>APMC</th>\n",
       "      <th>Commodity</th>\n",
       "      <th>Year</th>\n",
       "      <th>Month</th>\n",
       "      <th>arrivals_in_qtl</th>\n",
       "      <th>min_price</th>\n",
       "      <th>max_price</th>\n",
       "      <th>modal_price</th>\n",
       "      <th>date</th>\n",
       "      <th>district_name</th>\n",
       "      <th>state_name</th>\n",
       "    </tr>\n",
       "  </thead>\n",
       "  <tbody>\n",
       "    <tr>\n",
       "      <th>62424</th>\n",
       "      <td>Shrigonda</td>\n",
       "      <td>GRAM</td>\n",
       "      <td>2016</td>\n",
       "      <td>November</td>\n",
       "      <td>586</td>\n",
       "      <td>5700</td>\n",
       "      <td>6367</td>\n",
       "      <td>6200</td>\n",
       "      <td>2016-11</td>\n",
       "      <td>Ahmadnagar</td>\n",
       "      <td>Maharashtra</td>\n",
       "    </tr>\n",
       "    <tr>\n",
       "      <th>62425</th>\n",
       "      <td>Shrigonda</td>\n",
       "      <td>GREEN GRAM</td>\n",
       "      <td>2016</td>\n",
       "      <td>November</td>\n",
       "      <td>2</td>\n",
       "      <td>5000</td>\n",
       "      <td>5000</td>\n",
       "      <td>5000</td>\n",
       "      <td>2016-11</td>\n",
       "      <td>Ahmadnagar</td>\n",
       "      <td>Maharashtra</td>\n",
       "    </tr>\n",
       "    <tr>\n",
       "      <th>62426</th>\n",
       "      <td>Shrigonda</td>\n",
       "      <td>BLACK GRAM</td>\n",
       "      <td>2016</td>\n",
       "      <td>November</td>\n",
       "      <td>46</td>\n",
       "      <td>4700</td>\n",
       "      <td>6933</td>\n",
       "      <td>6400</td>\n",
       "      <td>2016-11</td>\n",
       "      <td>Ahmadnagar</td>\n",
       "      <td>Maharashtra</td>\n",
       "    </tr>\n",
       "    <tr>\n",
       "      <th>62427</th>\n",
       "      <td>Shrigonda</td>\n",
       "      <td>SOYBEAN</td>\n",
       "      <td>2016</td>\n",
       "      <td>November</td>\n",
       "      <td>166</td>\n",
       "      <td>2583</td>\n",
       "      <td>2708</td>\n",
       "      <td>2633</td>\n",
       "      <td>2016-11</td>\n",
       "      <td>Ahmadnagar</td>\n",
       "      <td>Maharashtra</td>\n",
       "    </tr>\n",
       "    <tr>\n",
       "      <th>62428</th>\n",
       "      <td>Shrigonda</td>\n",
       "      <td>SUNFLOWER</td>\n",
       "      <td>2016</td>\n",
       "      <td>November</td>\n",
       "      <td>74</td>\n",
       "      <td>2933</td>\n",
       "      <td>3200</td>\n",
       "      <td>3067</td>\n",
       "      <td>2016-11</td>\n",
       "      <td>Ahmadnagar</td>\n",
       "      <td>Maharashtra</td>\n",
       "    </tr>\n",
       "  </tbody>\n",
       "</table>\n",
       "</div>"
      ],
      "text/plain": [
       "            APMC   Commodity  Year     Month  arrivals_in_qtl  min_price  \\\n",
       "62424  Shrigonda        GRAM  2016  November              586       5700   \n",
       "62425  Shrigonda  GREEN GRAM  2016  November                2       5000   \n",
       "62426  Shrigonda  BLACK GRAM  2016  November               46       4700   \n",
       "62427  Shrigonda     SOYBEAN  2016  November              166       2583   \n",
       "62428  Shrigonda   SUNFLOWER  2016  November               74       2933   \n",
       "\n",
       "       max_price  modal_price     date district_name   state_name  \n",
       "62424       6367         6200  2016-11    Ahmadnagar  Maharashtra  \n",
       "62425       5000         5000  2016-11    Ahmadnagar  Maharashtra  \n",
       "62426       6933         6400  2016-11    Ahmadnagar  Maharashtra  \n",
       "62427       2708         2633  2016-11    Ahmadnagar  Maharashtra  \n",
       "62428       3200         3067  2016-11    Ahmadnagar  Maharashtra  "
      ]
     },
     "execution_count": 4,
     "metadata": {},
     "output_type": "execute_result"
    }
   ],
   "source": [
    "#Last 5 row\n",
    "df.tail()"
   ]
  },
  {
   "cell_type": "code",
   "execution_count": 5,
   "id": "619141c5",
   "metadata": {},
   "outputs": [
    {
     "data": {
      "text/plain": [
       "(62429, 11)"
      ]
     },
     "execution_count": 5,
     "metadata": {},
     "output_type": "execute_result"
    }
   ],
   "source": [
    "df.shape\n",
    "#Here 62429 rows and 11 columns"
   ]
  },
  {
   "cell_type": "markdown",
   "id": "a5ca3221",
   "metadata": {},
   "source": [
    "# Exploratory Data Analysis"
   ]
  },
  {
   "cell_type": "code",
   "execution_count": 6,
   "id": "926424f9",
   "metadata": {},
   "outputs": [
    {
     "data": {
      "text/html": [
       "<div>\n",
       "<style scoped>\n",
       "    .dataframe tbody tr th:only-of-type {\n",
       "        vertical-align: middle;\n",
       "    }\n",
       "\n",
       "    .dataframe tbody tr th {\n",
       "        vertical-align: top;\n",
       "    }\n",
       "\n",
       "    .dataframe thead th {\n",
       "        text-align: right;\n",
       "    }\n",
       "</style>\n",
       "<table border=\"1\" class=\"dataframe\">\n",
       "  <thead>\n",
       "    <tr style=\"text-align: right;\">\n",
       "      <th></th>\n",
       "      <th>Year</th>\n",
       "      <th>arrivals_in_qtl</th>\n",
       "      <th>min_price</th>\n",
       "      <th>max_price</th>\n",
       "      <th>modal_price</th>\n",
       "    </tr>\n",
       "  </thead>\n",
       "  <tbody>\n",
       "    <tr>\n",
       "      <th>count</th>\n",
       "      <td>62429.000000</td>\n",
       "      <td>6.242900e+04</td>\n",
       "      <td>6.242900e+04</td>\n",
       "      <td>6.242900e+04</td>\n",
       "      <td>62429.000000</td>\n",
       "    </tr>\n",
       "    <tr>\n",
       "      <th>mean</th>\n",
       "      <td>2015.337503</td>\n",
       "      <td>6.043088e+03</td>\n",
       "      <td>2.945228e+03</td>\n",
       "      <td>3.688814e+03</td>\n",
       "      <td>3296.003989</td>\n",
       "    </tr>\n",
       "    <tr>\n",
       "      <th>std</th>\n",
       "      <td>0.690451</td>\n",
       "      <td>3.470331e+04</td>\n",
       "      <td>1.318396e+04</td>\n",
       "      <td>7.662962e+03</td>\n",
       "      <td>3607.792534</td>\n",
       "    </tr>\n",
       "    <tr>\n",
       "      <th>min</th>\n",
       "      <td>2014.000000</td>\n",
       "      <td>1.000000e+00</td>\n",
       "      <td>0.000000e+00</td>\n",
       "      <td>0.000000e+00</td>\n",
       "      <td>0.000000</td>\n",
       "    </tr>\n",
       "    <tr>\n",
       "      <th>25%</th>\n",
       "      <td>2015.000000</td>\n",
       "      <td>3.800000e+01</td>\n",
       "      <td>1.250000e+03</td>\n",
       "      <td>1.600000e+03</td>\n",
       "      <td>1450.000000</td>\n",
       "    </tr>\n",
       "    <tr>\n",
       "      <th>50%</th>\n",
       "      <td>2015.000000</td>\n",
       "      <td>2.110000e+02</td>\n",
       "      <td>1.976000e+03</td>\n",
       "      <td>2.797000e+03</td>\n",
       "      <td>2425.000000</td>\n",
       "    </tr>\n",
       "    <tr>\n",
       "      <th>75%</th>\n",
       "      <td>2016.000000</td>\n",
       "      <td>1.364000e+03</td>\n",
       "      <td>3.900000e+03</td>\n",
       "      <td>4.647000e+03</td>\n",
       "      <td>4257.000000</td>\n",
       "    </tr>\n",
       "    <tr>\n",
       "      <th>max</th>\n",
       "      <td>2016.000000</td>\n",
       "      <td>1.450254e+06</td>\n",
       "      <td>3.153038e+06</td>\n",
       "      <td>1.600090e+06</td>\n",
       "      <td>142344.000000</td>\n",
       "    </tr>\n",
       "  </tbody>\n",
       "</table>\n",
       "</div>"
      ],
      "text/plain": [
       "               Year  arrivals_in_qtl     min_price     max_price  \\\n",
       "count  62429.000000     6.242900e+04  6.242900e+04  6.242900e+04   \n",
       "mean    2015.337503     6.043088e+03  2.945228e+03  3.688814e+03   \n",
       "std        0.690451     3.470331e+04  1.318396e+04  7.662962e+03   \n",
       "min     2014.000000     1.000000e+00  0.000000e+00  0.000000e+00   \n",
       "25%     2015.000000     3.800000e+01  1.250000e+03  1.600000e+03   \n",
       "50%     2015.000000     2.110000e+02  1.976000e+03  2.797000e+03   \n",
       "75%     2016.000000     1.364000e+03  3.900000e+03  4.647000e+03   \n",
       "max     2016.000000     1.450254e+06  3.153038e+06  1.600090e+06   \n",
       "\n",
       "         modal_price  \n",
       "count   62429.000000  \n",
       "mean     3296.003989  \n",
       "std      3607.792534  \n",
       "min         0.000000  \n",
       "25%      1450.000000  \n",
       "50%      2425.000000  \n",
       "75%      4257.000000  \n",
       "max    142344.000000  "
      ]
     },
     "execution_count": 6,
     "metadata": {},
     "output_type": "execute_result"
    }
   ],
   "source": [
    "df.describe()"
   ]
  },
  {
   "cell_type": "code",
   "execution_count": 7,
   "id": "b6233b49",
   "metadata": {},
   "outputs": [
    {
     "name": "stdout",
     "output_type": "stream",
     "text": [
      "Column name : unique values\n",
      "APMC  :  349\n",
      "Commodity  :  352\n",
      "Year  :  3\n",
      "Month  :  12\n",
      "arrivals_in_qtl  :  11169\n",
      "min_price  :  8503\n",
      "max_price  :  9739\n",
      "modal_price  :  9327\n",
      "date  :  27\n",
      "district_name  :  33\n",
      "state_name  :  1\n"
     ]
    }
   ],
   "source": [
    "# Number of unique values in each columns\n",
    "print(\"Column name : unique values\")\n",
    "for i in df.columns:\n",
    "    print(i,\" : \",df[i].nunique())"
   ]
  },
  {
   "cell_type": "raw",
   "id": "c6c743c8",
   "metadata": {},
   "source": [
    "Year column shows 3 unique values and state_name has only one and it will not help in modelling"
   ]
  },
  {
   "cell_type": "code",
   "execution_count": 8,
   "id": "f191cf52",
   "metadata": {},
   "outputs": [
    {
     "data": {
      "text/plain": [
       "2016    28971\n",
       "2015    25557\n",
       "2014     7901\n",
       "Name: Year, dtype: int64"
      ]
     },
     "execution_count": 8,
     "metadata": {},
     "output_type": "execute_result"
    }
   ],
   "source": [
    "# 3 categories in Year.\n",
    "df['Year'].value_counts()"
   ]
  },
  {
   "cell_type": "raw",
   "id": "82f6c8b0",
   "metadata": {},
   "source": [
    "Comparitively 2016 shows high data and 2014 has less data"
   ]
  },
  {
   "cell_type": "code",
   "execution_count": 9,
   "id": "33fe3f2e",
   "metadata": {},
   "outputs": [
    {
     "data": {
      "text/html": [
       "<div>\n",
       "<style scoped>\n",
       "    .dataframe tbody tr th:only-of-type {\n",
       "        vertical-align: middle;\n",
       "    }\n",
       "\n",
       "    .dataframe tbody tr th {\n",
       "        vertical-align: top;\n",
       "    }\n",
       "\n",
       "    .dataframe thead th {\n",
       "        text-align: right;\n",
       "    }\n",
       "</style>\n",
       "<table border=\"1\" class=\"dataframe\">\n",
       "  <thead>\n",
       "    <tr style=\"text-align: right;\">\n",
       "      <th></th>\n",
       "      <th>arrivals_in_qtl</th>\n",
       "      <th>min_price</th>\n",
       "      <th>max_price</th>\n",
       "      <th>modal_price</th>\n",
       "    </tr>\n",
       "    <tr>\n",
       "      <th>Year</th>\n",
       "      <th></th>\n",
       "      <th></th>\n",
       "      <th></th>\n",
       "      <th></th>\n",
       "    </tr>\n",
       "  </thead>\n",
       "  <tbody>\n",
       "    <tr>\n",
       "      <th>2016</th>\n",
       "      <td>167763619</td>\n",
       "      <td>86826086</td>\n",
       "      <td>111944031</td>\n",
       "      <td>99608865</td>\n",
       "    </tr>\n",
       "    <tr>\n",
       "      <th>2015</th>\n",
       "      <td>159554268</td>\n",
       "      <td>76236512</td>\n",
       "      <td>91808885</td>\n",
       "      <td>82570880</td>\n",
       "    </tr>\n",
       "    <tr>\n",
       "      <th>2014</th>\n",
       "      <td>49946074</td>\n",
       "      <td>20805015</td>\n",
       "      <td>26536030</td>\n",
       "      <td>23586488</td>\n",
       "    </tr>\n",
       "  </tbody>\n",
       "</table>\n",
       "</div>"
      ],
      "text/plain": [
       "      arrivals_in_qtl  min_price  max_price  modal_price\n",
       "Year                                                    \n",
       "2016        167763619   86826086  111944031     99608865\n",
       "2015        159554268   76236512   91808885     82570880\n",
       "2014         49946074   20805015   26536030     23586488"
      ]
     },
     "execution_count": 9,
     "metadata": {},
     "output_type": "execute_result"
    }
   ],
   "source": [
    "#Year in terms of modal_price.\n",
    "df[['arrivals_in_qtl','min_price','max_price','modal_price']].groupby(df[\"Year\"]).sum().sort_values(by=\"modal_price\",ascending=False)"
   ]
  },
  {
   "cell_type": "raw",
   "id": "b8047784",
   "metadata": {},
   "source": [
    "#There is no much difference occurs between 2016 and 2015 but not in case of 2014\n",
    "#So Among 2016 and 2015 2016 shows highest modal_price"
   ]
  },
  {
   "cell_type": "code",
   "execution_count": 10,
   "id": "c5d38707",
   "metadata": {},
   "outputs": [
    {
     "data": {
      "text/plain": [
       "district_name\n",
       "Pune          17710875\n",
       "Nagpur        12636741\n",
       "Ahmadnagar    12242695\n",
       "Mumbai        12002941\n",
       "Solapur       11567353\n",
       "Buldhana      10504472\n",
       "Nasik         10167567\n",
       "Amaravathi     9397075\n",
       "Jalgaon        7849484\n",
       "Satara         7343544\n",
       "Name: modal_price, dtype: int64"
      ]
     },
     "execution_count": 10,
     "metadata": {},
     "output_type": "execute_result"
    }
   ],
   "source": [
    "# Top 10 districts in terms of model_price\n",
    "df['modal_price'].groupby(df['district_name']).sum().sort_values(ascending=False).head(10)"
   ]
  },
  {
   "cell_type": "code",
   "execution_count": 11,
   "id": "543f87aa",
   "metadata": {},
   "outputs": [
    {
     "data": {
      "text/plain": [
       "Month\n",
       "October      23335203\n",
       "November     22729212\n",
       "September    21257429\n",
       "June         17793744\n",
       "January      16146410\n",
       "May          15763734\n",
       "December     15663199\n",
       "July         15181741\n",
       "August       14756135\n",
       "April        14578057\n",
       "February     14442010\n",
       "March        14119359\n",
       "Name: modal_price, dtype: int64"
      ]
     },
     "execution_count": 11,
     "metadata": {},
     "output_type": "execute_result"
    }
   ],
   "source": [
    "# Highest modal_price month_wise\n",
    "df['modal_price'].groupby(df['Month']).sum().sort_values(ascending=False).head(12)"
   ]
  },
  {
   "cell_type": "code",
   "execution_count": 12,
   "id": "d1dafbcd",
   "metadata": {},
   "outputs": [],
   "source": [
    "## Creating a copy\n",
    "df2=df.copy()"
   ]
  },
  {
   "cell_type": "code",
   "execution_count": 13,
   "id": "45db598b",
   "metadata": {},
   "outputs": [],
   "source": [
    "# Creating a dictionary of months\n",
    "mon={'January':1,'February':2,'March':3,'April':4,'May':5,'June':6,'July':7,'August':8,'September':9,'October':10,'November':11,'December':12}"
   ]
  },
  {
   "cell_type": "code",
   "execution_count": 14,
   "id": "9626c9f7",
   "metadata": {},
   "outputs": [],
   "source": [
    "#Mapping Month column with mon dictionary\n",
    "df2['Month'] = df2['Month'].map(mon)"
   ]
  },
  {
   "cell_type": "code",
   "execution_count": 15,
   "id": "5a7634d9",
   "metadata": {},
   "outputs": [
    {
     "data": {
      "text/html": [
       "<div>\n",
       "<style scoped>\n",
       "    .dataframe tbody tr th:only-of-type {\n",
       "        vertical-align: middle;\n",
       "    }\n",
       "\n",
       "    .dataframe tbody tr th {\n",
       "        vertical-align: top;\n",
       "    }\n",
       "\n",
       "    .dataframe thead th {\n",
       "        text-align: right;\n",
       "    }\n",
       "</style>\n",
       "<table border=\"1\" class=\"dataframe\">\n",
       "  <thead>\n",
       "    <tr style=\"text-align: right;\">\n",
       "      <th></th>\n",
       "      <th>APMC</th>\n",
       "      <th>Commodity</th>\n",
       "      <th>Year</th>\n",
       "      <th>Month</th>\n",
       "      <th>arrivals_in_qtl</th>\n",
       "      <th>min_price</th>\n",
       "      <th>max_price</th>\n",
       "      <th>modal_price</th>\n",
       "      <th>date</th>\n",
       "      <th>district_name</th>\n",
       "      <th>state_name</th>\n",
       "    </tr>\n",
       "  </thead>\n",
       "  <tbody>\n",
       "    <tr>\n",
       "      <th>0</th>\n",
       "      <td>Ahmednagar</td>\n",
       "      <td>Bajri</td>\n",
       "      <td>2015</td>\n",
       "      <td>4</td>\n",
       "      <td>79</td>\n",
       "      <td>1406</td>\n",
       "      <td>1538</td>\n",
       "      <td>1463</td>\n",
       "      <td>2015-04</td>\n",
       "      <td>Ahmadnagar</td>\n",
       "      <td>Maharashtra</td>\n",
       "    </tr>\n",
       "    <tr>\n",
       "      <th>1</th>\n",
       "      <td>Ahmednagar</td>\n",
       "      <td>Bajri</td>\n",
       "      <td>2016</td>\n",
       "      <td>4</td>\n",
       "      <td>106</td>\n",
       "      <td>1788</td>\n",
       "      <td>1925</td>\n",
       "      <td>1875</td>\n",
       "      <td>2016-04</td>\n",
       "      <td>Ahmadnagar</td>\n",
       "      <td>Maharashtra</td>\n",
       "    </tr>\n",
       "    <tr>\n",
       "      <th>2</th>\n",
       "      <td>Ahmednagar</td>\n",
       "      <td>Wheat(Husked)</td>\n",
       "      <td>2015</td>\n",
       "      <td>4</td>\n",
       "      <td>1253</td>\n",
       "      <td>1572</td>\n",
       "      <td>1890</td>\n",
       "      <td>1731</td>\n",
       "      <td>2015-04</td>\n",
       "      <td>Ahmadnagar</td>\n",
       "      <td>Maharashtra</td>\n",
       "    </tr>\n",
       "    <tr>\n",
       "      <th>3</th>\n",
       "      <td>Ahmednagar</td>\n",
       "      <td>Wheat(Husked)</td>\n",
       "      <td>2016</td>\n",
       "      <td>4</td>\n",
       "      <td>387</td>\n",
       "      <td>1750</td>\n",
       "      <td>2220</td>\n",
       "      <td>1999</td>\n",
       "      <td>2016-04</td>\n",
       "      <td>Ahmadnagar</td>\n",
       "      <td>Maharashtra</td>\n",
       "    </tr>\n",
       "    <tr>\n",
       "      <th>4</th>\n",
       "      <td>Ahmednagar</td>\n",
       "      <td>Sorgum(Jawar)</td>\n",
       "      <td>2015</td>\n",
       "      <td>4</td>\n",
       "      <td>3825</td>\n",
       "      <td>1600</td>\n",
       "      <td>2200</td>\n",
       "      <td>1900</td>\n",
       "      <td>2015-04</td>\n",
       "      <td>Ahmadnagar</td>\n",
       "      <td>Maharashtra</td>\n",
       "    </tr>\n",
       "  </tbody>\n",
       "</table>\n",
       "</div>"
      ],
      "text/plain": [
       "         APMC      Commodity  Year  Month  arrivals_in_qtl  min_price  \\\n",
       "0  Ahmednagar          Bajri  2015      4               79       1406   \n",
       "1  Ahmednagar          Bajri  2016      4              106       1788   \n",
       "2  Ahmednagar  Wheat(Husked)  2015      4             1253       1572   \n",
       "3  Ahmednagar  Wheat(Husked)  2016      4              387       1750   \n",
       "4  Ahmednagar  Sorgum(Jawar)  2015      4             3825       1600   \n",
       "\n",
       "   max_price  modal_price     date district_name   state_name  \n",
       "0       1538         1463  2015-04    Ahmadnagar  Maharashtra  \n",
       "1       1925         1875  2016-04    Ahmadnagar  Maharashtra  \n",
       "2       1890         1731  2015-04    Ahmadnagar  Maharashtra  \n",
       "3       2220         1999  2016-04    Ahmadnagar  Maharashtra  \n",
       "4       2200         1900  2015-04    Ahmadnagar  Maharashtra  "
      ]
     },
     "execution_count": 15,
     "metadata": {},
     "output_type": "execute_result"
    }
   ],
   "source": [
    "## Output\n",
    "df2.head()"
   ]
  },
  {
   "cell_type": "code",
   "execution_count": 16,
   "id": "2baac482",
   "metadata": {},
   "outputs": [],
   "source": [
    "df5=df2['Commodity'].groupby(df2['district_name']).count().reset_index(name='count').sort_values(by=['count'],ascending=False)"
   ]
  },
  {
   "cell_type": "code",
   "execution_count": 17,
   "id": "076763a6",
   "metadata": {},
   "outputs": [
    {
     "data": {
      "image/png": "[encoded data removed]",
      "text/plain": [
       "<Figure size 1080x576 with 1 Axes>"
      ]
     },
     "metadata": {
      "needs_background": "light"
     },
     "output_type": "display_data"
    }
   ],
   "source": [
    "plt.figure(figsize=(15,8))\n",
    "plt.title(\"District and number of commodites cultivated\",fontsize=13,pad=10)\n",
    "ax=sns.barplot(x=\"district_name\", y=\"count\", data=df5,palette=\"Blues_d\")\n",
    "plt.xticks(rotation=90)\n",
    "plt.xlabel(\"District Name\",fontsize=13)\n",
    "plt.ylabel(\"Count\",fontsize=13)\n",
    "\n",
    "patch_h = []    \n",
    "for patch in ax.patches:\n",
    "    reading = patch.get_height()\n",
    "    patch_h.append(reading)\n",
    "# patch_h contains the heights of all the patches now\n",
    "\n",
    "idx_tallest = np.argmax(patch_h)   \n",
    "# np.argmax return the index of largest value of the list\n",
    "\n",
    "ax.patches[idx_tallest].set_facecolor('#a834a8') "
   ]
  },
  {
   "cell_type": "code",
   "execution_count": 18,
   "id": "15810dc8",
   "metadata": {},
   "outputs": [],
   "source": [
    "#From the given graph it shows the districts and its cultivation counts in Maharashtra\n",
    "#Almost 28 districts have wide range of commodities cultivated or have more cultivated areas."
   ]
  },
  {
   "cell_type": "code",
   "execution_count": 19,
   "id": "09acf940",
   "metadata": {},
   "outputs": [],
   "source": [
    "df6=df2['Commodity'].groupby(df2['Commodity']).count().reset_index(name=\"count\").sort_values(by=['count'],ascending=False).head(30)"
   ]
  },
  {
   "cell_type": "code",
   "execution_count": 20,
   "id": "72a5e021",
   "metadata": {},
   "outputs": [
    {
     "data": {
      "image/png": "[encoded data removed]",
      "text/plain": [
       "<Figure size 1080x576 with 1 Axes>"
      ]
     },
     "metadata": {
      "needs_background": "light"
     },
     "output_type": "display_data"
    }
   ],
   "source": [
    "## Top 30 commodity production\n",
    "plt.figure(figsize=(15,8))\n",
    "ax2=sns.barplot(x=\"Commodity\", y=\"count\", data=df6,palette=\"Greens_d\")\n",
    "plt.xticks(rotation=90)\n",
    "\n",
    "patch_h = []    \n",
    "for patch in ax2.patches:\n",
    "    reading = patch.get_height()\n",
    "    patch_h.append(reading)\n",
    "# patch_h contains the heights of all the patches now\n",
    "\n",
    "idx_tallest = np.argmax(patch_h)   \n",
    "# np.argmax return the index of largest value of the list\n",
    "\n",
    "ax2.patches[idx_tallest].set_facecolor('#a834a8')  \n"
   ]
  },
  {
   "cell_type": "code",
   "execution_count": 21,
   "id": "886a2943",
   "metadata": {},
   "outputs": [],
   "source": [
    "#From graph it is identified that Gram is the most popular commodity cultivated in Maharashtra.\n",
    "#Wheat is the major cereal cultivated in Maharashtra."
   ]
  },
  {
   "cell_type": "code",
   "execution_count": 22,
   "id": "332c9237",
   "metadata": {},
   "outputs": [
    {
     "data": {
      "text/plain": [
       "Text(0, 0.5, 'Modal Price')"
      ]
     },
     "execution_count": 22,
     "metadata": {},
     "output_type": "execute_result"
    },
    {
     "data": {
      "image/png": "[encoded data removed]",
      "text/plain": [
       "<Figure size 1080x576 with 1 Axes>"
      ]
     },
     "metadata": {
      "needs_background": "light"
     },
     "output_type": "display_data"
    }
   ],
   "source": [
    "plt.figure(figsize=(15,8))\n",
    "plt.title(\"Month vs Model_price\", fontsize=14,pad=10)\n",
    "sns.lineplot(data=df2, x=df2[\"Month\"], y=df2[\"modal_price\"],hue='Year',palette=['#B3541E', '#9C0F48','#072227'])\n",
    "plt.xlabel(\"Month\",fontsize=13)\n",
    "plt.ylabel('Modal Price',fontsize=13)"
   ]
  },
  {
   "cell_type": "code",
   "execution_count": 23,
   "id": "f54e387d",
   "metadata": {},
   "outputs": [],
   "source": [
    "#From graph :\n",
    "#The values of 2014 start from september.\n",
    "#The price given to farmers in 2015 increased after june but in 2016 it decreased after june.\n",
    "#The model_price is highest in june of 2016."
   ]
  },
  {
   "cell_type": "code",
   "execution_count": 24,
   "id": "c2f78080",
   "metadata": {},
   "outputs": [
    {
     "data": {
      "text/plain": [
       "Text(0, 0.5, 'In qunitals')"
      ]
     },
     "execution_count": 24,
     "metadata": {},
     "output_type": "execute_result"
    },
    {
     "data": {
      "image/png": "[encoded data removed]",
      "text/plain": [
       "<Figure size 1080x576 with 1 Axes>"
      ]
     },
     "metadata": {
      "needs_background": "light"
     },
     "output_type": "display_data"
    }
   ],
   "source": [
    "plt.figure(figsize=(15,8))\n",
    "plt.title(\"Month vs arrivals_in_qtl\",pad=10,fontsize=13)\n",
    "sns.lineplot(data=df2, x=df2[\"Month\"], y=df2[\"arrivals_in_qtl\"],hue='Year',palette=['#B3541E', '#9C0F48','#072227'])\n",
    "plt.xlabel(\"Month\",fontsize=13)\n",
    "plt.ylabel('In qunitals',fontsize=13)"
   ]
  },
  {
   "cell_type": "code",
   "execution_count": 25,
   "id": "807114e9",
   "metadata": {},
   "outputs": [],
   "source": [
    "#From graph :\n",
    "#The arrival of crops decreases towards the mid months and increases towards the end months.\n",
    "#The arrival of crops in 2016 is low, but the model_price was high.This indicates that there must be change in the price of commodity."
   ]
  },
  {
   "cell_type": "markdown",
   "id": "a7b405f6",
   "metadata": {},
   "source": [
    "# Pre Processing"
   ]
  },
  {
   "cell_type": "code",
   "execution_count": 26,
   "id": "86b47cbf",
   "metadata": {},
   "outputs": [
    {
     "data": {
      "text/plain": [
       "APMC               0\n",
       "Commodity          0\n",
       "Year               0\n",
       "Month              0\n",
       "arrivals_in_qtl    0\n",
       "min_price          0\n",
       "max_price          0\n",
       "modal_price        0\n",
       "date               0\n",
       "district_name      0\n",
       "state_name         0\n",
       "dtype: int64"
      ]
     },
     "execution_count": 26,
     "metadata": {},
     "output_type": "execute_result"
    }
   ],
   "source": [
    "#1.First we need to check for null values\n",
    "df.isna().sum()\n",
    "#There was no null values "
   ]
  },
  {
   "cell_type": "code",
   "execution_count": 27,
   "id": "86cb3614",
   "metadata": {},
   "outputs": [
    {
     "data": {
      "image/png": "[encoded data removed]",
      "text/plain": [
       "<Figure size 432x288 with 1 Axes>"
      ]
     },
     "metadata": {
      "needs_background": "light"
     },
     "output_type": "display_data"
    },
    {
     "data": {
      "image/png": "[encoded data removed]",
      "text/plain": [
       "<Figure size 432x288 with 1 Axes>"
      ]
     },
     "metadata": {
      "needs_background": "light"
     },
     "output_type": "display_data"
    },
    {
     "data": {
      "image/png": "[encoded data removed]",
      "text/plain": [
       "<Figure size 432x288 with 1 Axes>"
      ]
     },
     "metadata": {
      "needs_background": "light"
     },
     "output_type": "display_data"
    },
    {
     "data": {
      "image/png": "[encoded data removed]",
      "text/plain": [
       "<Figure size 432x288 with 1 Axes>"
      ]
     },
     "metadata": {
      "needs_background": "light"
     },
     "output_type": "display_data"
    }
   ],
   "source": [
    "#2.Outlier detection\n",
    "#Handling outliers\n",
    "for i in ['arrivals_in_qtl', 'min_price','max_price', 'modal_price']:\n",
    "    plt.title(i)\n",
    "    plt.boxplot(df[i])\n",
    "    plt.show()"
   ]
  },
  {
   "cell_type": "code",
   "execution_count": 28,
   "id": "ed6ed496",
   "metadata": {},
   "outputs": [],
   "source": [
    "#There it shows more outliers in each 4 columns,so we nned to handle it first\n",
    "#arrivals_qtl\n",
    "Q1 = np.percentile(df['arrivals_in_qtl'],25, interpolation = 'midpoint')\n",
    "Q2 = np.percentile(df['arrivals_in_qtl'],50, interpolation = 'midpoint')\n",
    "Q3 = np.percentile(df['arrivals_in_qtl'],75, interpolation = 'midpoint')\n",
    "IQR = Q3-Q1\n",
    "low_lim = Q1-1.5*IQR\n",
    "upp_lim = Q3+1.5*IQR"
   ]
  },
  {
   "cell_type": "code",
   "execution_count": 29,
   "id": "79334503",
   "metadata": {},
   "outputs": [],
   "source": [
    "index=df['arrivals_in_qtl'][(df['arrivals_in_qtl']<low_lim)|(df['arrivals_in_qtl']>upp_lim)].index\n",
    "df.drop(index,inplace = True)"
   ]
  },
  {
   "cell_type": "code",
   "execution_count": 30,
   "id": "ffc67062",
   "metadata": {},
   "outputs": [],
   "source": [
    "#Min Price\n",
    "Q1 = np.percentile(df['min_price'],25, interpolation = 'midpoint')\n",
    "Q2 = np.percentile(df['min_price'],50, interpolation = 'midpoint')\n",
    "Q3 = np.percentile(df['min_price'],75, interpolation = 'midpoint')\n",
    "IQR = Q3-Q1\n",
    "low_lim = Q1-1.5*IQR\n",
    "upp_lim = Q3+1.5*IQR"
   ]
  },
  {
   "cell_type": "code",
   "execution_count": 31,
   "id": "8d898ead",
   "metadata": {},
   "outputs": [],
   "source": [
    "index=df['min_price'][(df['min_price']<low_lim)|(df['min_price']>upp_lim)].index\n",
    "df.drop(index,inplace = True)"
   ]
  },
  {
   "cell_type": "code",
   "execution_count": 32,
   "id": "b165f2c7",
   "metadata": {},
   "outputs": [],
   "source": [
    "#Max price\n",
    "Q1 = np.percentile(df['max_price'],25, interpolation = 'midpoint')\n",
    "Q2 = np.percentile(df['max_price'],50, interpolation = 'midpoint')\n",
    "Q3 = np.percentile(df['max_price'],75, interpolation = 'midpoint')\n",
    "IQR = Q3-Q1\n",
    "low_lim = Q1-1.5*IQR\n",
    "upp_lim = Q3+1.5*IQR"
   ]
  },
  {
   "cell_type": "code",
   "execution_count": 33,
   "id": "c0063b90",
   "metadata": {},
   "outputs": [],
   "source": [
    "index=df['max_price'][(df['max_price']<low_lim)|(df['max_price']>upp_lim)].index\n",
    "df.drop(index,inplace = True)"
   ]
  },
  {
   "cell_type": "code",
   "execution_count": 34,
   "id": "0d5740fb",
   "metadata": {},
   "outputs": [],
   "source": [
    "#Modal price\n",
    "Q1 = np.percentile(df['modal_price'],25, interpolation = 'midpoint')\n",
    "Q2 = np.percentile(df['modal_price'],50, interpolation = 'midpoint')\n",
    "Q3 = np.percentile(df['modal_price'],75, interpolation = 'midpoint')\n",
    "IQR = Q3-Q1\n",
    "low_lim = Q1-1.5*IQR\n",
    "upp_lim = Q3+1.5*IQR"
   ]
  },
  {
   "cell_type": "code",
   "execution_count": 35,
   "id": "7f1d5b84",
   "metadata": {},
   "outputs": [],
   "source": [
    "index=df['modal_price'][(df['modal_price']<low_lim)|(df['modal_price']>upp_lim)].index\n",
    "df.drop(index,inplace = True)"
   ]
  },
  {
   "cell_type": "code",
   "execution_count": 36,
   "id": "b2579c84",
   "metadata": {},
   "outputs": [
    {
     "data": {
      "text/plain": [
       "48822"
      ]
     },
     "execution_count": 36,
     "metadata": {},
     "output_type": "execute_result"
    }
   ],
   "source": [
    "len(df)"
   ]
  },
  {
   "cell_type": "code",
   "execution_count": 37,
   "id": "37c6d9fe",
   "metadata": {},
   "outputs": [
    {
     "data": {
      "image/png": "[encoded data removed]",
      "text/plain": [
       "<Figure size 432x288 with 1 Axes>"
      ]
     },
     "metadata": {
      "needs_background": "light"
     },
     "output_type": "display_data"
    },
    {
     "data": {
      "image/png": "[encoded data removed]",
      "text/plain": [
       "<Figure size 432x288 with 1 Axes>"
      ]
     },
     "metadata": {
      "needs_background": "light"
     },
     "output_type": "display_data"
    },
    {
     "data": {
      "image/png": "[encoded data removed]",
      "text/plain": [
       "<Figure size 432x288 with 1 Axes>"
      ]
     },
     "metadata": {
      "needs_background": "light"
     },
     "output_type": "display_data"
    },
    {
     "data": {
      "image/png": "[encoded data removed]",
      "text/plain": [
       "<Figure size 432x288 with 1 Axes>"
      ]
     },
     "metadata": {
      "needs_background": "light"
     },
     "output_type": "display_data"
    }
   ],
   "source": [
    "#Here we removed outliers and now we create boxplot\n",
    "for i in ['arrivals_in_qtl', 'min_price','max_price', 'modal_price']:\n",
    "    plt.title(i)\n",
    "    plt.boxplot(df[i])\n",
    "    plt.show()"
   ]
  },
  {
   "cell_type": "code",
   "execution_count": 38,
   "id": "38544458",
   "metadata": {},
   "outputs": [
    {
     "data": {
      "text/html": [
       "<div>\n",
       "<style scoped>\n",
       "    .dataframe tbody tr th:only-of-type {\n",
       "        vertical-align: middle;\n",
       "    }\n",
       "\n",
       "    .dataframe tbody tr th {\n",
       "        vertical-align: top;\n",
       "    }\n",
       "\n",
       "    .dataframe thead th {\n",
       "        text-align: right;\n",
       "    }\n",
       "</style>\n",
       "<table border=\"1\" class=\"dataframe\">\n",
       "  <thead>\n",
       "    <tr style=\"text-align: right;\">\n",
       "      <th></th>\n",
       "      <th>APMC</th>\n",
       "      <th>Commodity</th>\n",
       "      <th>Year</th>\n",
       "      <th>Month</th>\n",
       "      <th>arrivals_in_qtl</th>\n",
       "      <th>min_price</th>\n",
       "      <th>max_price</th>\n",
       "      <th>modal_price</th>\n",
       "      <th>date</th>\n",
       "      <th>district_name</th>\n",
       "      <th>state_name</th>\n",
       "    </tr>\n",
       "  </thead>\n",
       "  <tbody>\n",
       "  </tbody>\n",
       "</table>\n",
       "</div>"
      ],
      "text/plain": [
       "Empty DataFrame\n",
       "Columns: [APMC, Commodity, Year, Month, arrivals_in_qtl, min_price, max_price, modal_price, date, district_name, state_name]\n",
       "Index: []"
      ]
     },
     "execution_count": 38,
     "metadata": {},
     "output_type": "execute_result"
    }
   ],
   "source": [
    "#3Checking for duplicates\n",
    "duplicate = df[df.duplicated()]\n",
    "duplicate.head()\n",
    "#There is no duplicates in the dataset"
   ]
  },
  {
   "cell_type": "code",
   "execution_count": 39,
   "id": "beb55c81",
   "metadata": {},
   "outputs": [
    {
     "data": {
      "text/plain": [
       "APMC               object\n",
       "Commodity          object\n",
       "Year                int64\n",
       "Month              object\n",
       "arrivals_in_qtl     int64\n",
       "min_price           int64\n",
       "max_price           int64\n",
       "modal_price         int64\n",
       "date               object\n",
       "district_name      object\n",
       "state_name         object\n",
       "dtype: object"
      ]
     },
     "execution_count": 39,
     "metadata": {},
     "output_type": "execute_result"
    }
   ],
   "source": [
    "#4.Datatypes Correction\n",
    "df.dtypes\n",
    "#Date is not in datatype"
   ]
  },
  {
   "cell_type": "code",
   "execution_count": 40,
   "id": "63ab985e",
   "metadata": {},
   "outputs": [],
   "source": [
    "# Converting to date type\n",
    "df['date'] =  pd.to_datetime(df['date'])"
   ]
  },
  {
   "cell_type": "code",
   "execution_count": 41,
   "id": "63df5944",
   "metadata": {},
   "outputs": [
    {
     "data": {
      "text/plain": [
       "APMC                       object\n",
       "Commodity                  object\n",
       "Year                        int64\n",
       "Month                      object\n",
       "arrivals_in_qtl             int64\n",
       "min_price                   int64\n",
       "max_price                   int64\n",
       "modal_price                 int64\n",
       "date               datetime64[ns]\n",
       "district_name              object\n",
       "state_name                 object\n",
       "dtype: object"
      ]
     },
     "execution_count": 41,
     "metadata": {},
     "output_type": "execute_result"
    }
   ],
   "source": [
    "df.dtypes"
   ]
  },
  {
   "cell_type": "code",
   "execution_count": 42,
   "id": "806f23fb",
   "metadata": {},
   "outputs": [
    {
     "data": {
      "text/html": [
       "<div>\n",
       "<style scoped>\n",
       "    .dataframe tbody tr th:only-of-type {\n",
       "        vertical-align: middle;\n",
       "    }\n",
       "\n",
       "    .dataframe tbody tr th {\n",
       "        vertical-align: top;\n",
       "    }\n",
       "\n",
       "    .dataframe thead th {\n",
       "        text-align: right;\n",
       "    }\n",
       "</style>\n",
       "<table border=\"1\" class=\"dataframe\">\n",
       "  <thead>\n",
       "    <tr style=\"text-align: right;\">\n",
       "      <th></th>\n",
       "      <th>APMC</th>\n",
       "      <th>Commodity</th>\n",
       "      <th>Month</th>\n",
       "      <th>arrivals_in_qtl</th>\n",
       "      <th>min_price</th>\n",
       "      <th>max_price</th>\n",
       "      <th>modal_price</th>\n",
       "      <th>date</th>\n",
       "      <th>district_name</th>\n",
       "      <th>state_name</th>\n",
       "      <th>Year_2014</th>\n",
       "      <th>Year_2015</th>\n",
       "      <th>Year_2016</th>\n",
       "    </tr>\n",
       "  </thead>\n",
       "  <tbody>\n",
       "    <tr>\n",
       "      <th>0</th>\n",
       "      <td>Ahmednagar</td>\n",
       "      <td>Bajri</td>\n",
       "      <td>April</td>\n",
       "      <td>79</td>\n",
       "      <td>1406</td>\n",
       "      <td>1538</td>\n",
       "      <td>1463</td>\n",
       "      <td>2015-04-01</td>\n",
       "      <td>Ahmadnagar</td>\n",
       "      <td>Maharashtra</td>\n",
       "      <td>0</td>\n",
       "      <td>1</td>\n",
       "      <td>0</td>\n",
       "    </tr>\n",
       "    <tr>\n",
       "      <th>1</th>\n",
       "      <td>Ahmednagar</td>\n",
       "      <td>Bajri</td>\n",
       "      <td>April</td>\n",
       "      <td>106</td>\n",
       "      <td>1788</td>\n",
       "      <td>1925</td>\n",
       "      <td>1875</td>\n",
       "      <td>2016-04-01</td>\n",
       "      <td>Ahmadnagar</td>\n",
       "      <td>Maharashtra</td>\n",
       "      <td>0</td>\n",
       "      <td>0</td>\n",
       "      <td>1</td>\n",
       "    </tr>\n",
       "    <tr>\n",
       "      <th>2</th>\n",
       "      <td>Ahmednagar</td>\n",
       "      <td>Wheat(Husked)</td>\n",
       "      <td>April</td>\n",
       "      <td>1253</td>\n",
       "      <td>1572</td>\n",
       "      <td>1890</td>\n",
       "      <td>1731</td>\n",
       "      <td>2015-04-01</td>\n",
       "      <td>Ahmadnagar</td>\n",
       "      <td>Maharashtra</td>\n",
       "      <td>0</td>\n",
       "      <td>1</td>\n",
       "      <td>0</td>\n",
       "    </tr>\n",
       "    <tr>\n",
       "      <th>3</th>\n",
       "      <td>Ahmednagar</td>\n",
       "      <td>Wheat(Husked)</td>\n",
       "      <td>April</td>\n",
       "      <td>387</td>\n",
       "      <td>1750</td>\n",
       "      <td>2220</td>\n",
       "      <td>1999</td>\n",
       "      <td>2016-04-01</td>\n",
       "      <td>Ahmadnagar</td>\n",
       "      <td>Maharashtra</td>\n",
       "      <td>0</td>\n",
       "      <td>0</td>\n",
       "      <td>1</td>\n",
       "    </tr>\n",
       "    <tr>\n",
       "      <th>5</th>\n",
       "      <td>Ahmednagar</td>\n",
       "      <td>Sorgum(Jawar)</td>\n",
       "      <td>April</td>\n",
       "      <td>2093</td>\n",
       "      <td>1695</td>\n",
       "      <td>2454</td>\n",
       "      <td>2119</td>\n",
       "      <td>2016-04-01</td>\n",
       "      <td>Ahmadnagar</td>\n",
       "      <td>Maharashtra</td>\n",
       "      <td>0</td>\n",
       "      <td>0</td>\n",
       "      <td>1</td>\n",
       "    </tr>\n",
       "  </tbody>\n",
       "</table>\n",
       "</div>"
      ],
      "text/plain": [
       "         APMC      Commodity  Month  arrivals_in_qtl  min_price  max_price  \\\n",
       "0  Ahmednagar          Bajri  April               79       1406       1538   \n",
       "1  Ahmednagar          Bajri  April              106       1788       1925   \n",
       "2  Ahmednagar  Wheat(Husked)  April             1253       1572       1890   \n",
       "3  Ahmednagar  Wheat(Husked)  April              387       1750       2220   \n",
       "5  Ahmednagar  Sorgum(Jawar)  April             2093       1695       2454   \n",
       "\n",
       "   modal_price       date district_name   state_name  Year_2014  Year_2015  \\\n",
       "0         1463 2015-04-01    Ahmadnagar  Maharashtra          0          1   \n",
       "1         1875 2016-04-01    Ahmadnagar  Maharashtra          0          0   \n",
       "2         1731 2015-04-01    Ahmadnagar  Maharashtra          0          1   \n",
       "3         1999 2016-04-01    Ahmadnagar  Maharashtra          0          0   \n",
       "5         2119 2016-04-01    Ahmadnagar  Maharashtra          0          0   \n",
       "\n",
       "   Year_2016  \n",
       "0          0  \n",
       "1          1  \n",
       "2          0  \n",
       "3          1  \n",
       "5          1  "
      ]
     },
     "execution_count": 42,
     "metadata": {},
     "output_type": "execute_result"
    }
   ],
   "source": [
    "#5. Encoding\n",
    "#One hot encoding\n",
    "df3 = pd.get_dummies(df,columns=['Year'])\n",
    "df3.head()"
   ]
  },
  {
   "cell_type": "code",
   "execution_count": 43,
   "id": "fabfa18d",
   "metadata": {},
   "outputs": [],
   "source": [
    "## Since there are lot of categories for APMC, Commodity and district name BaseN encoder is used\n",
    "import category_encoders as ce"
   ]
  },
  {
   "cell_type": "code",
   "execution_count": 44,
   "id": "db5c6e6d",
   "metadata": {},
   "outputs": [],
   "source": [
    "encoder= ce.BaseNEncoder(cols=['APMC','Commodity','district_name'],return_df=True,base=3)"
   ]
  },
  {
   "cell_type": "code",
   "execution_count": 45,
   "id": "e9032e16",
   "metadata": {},
   "outputs": [
    {
     "data": {
      "text/html": [
       "<div>\n",
       "<style scoped>\n",
       "    .dataframe tbody tr th:only-of-type {\n",
       "        vertical-align: middle;\n",
       "    }\n",
       "\n",
       "    .dataframe tbody tr th {\n",
       "        vertical-align: top;\n",
       "    }\n",
       "\n",
       "    .dataframe thead th {\n",
       "        text-align: right;\n",
       "    }\n",
       "</style>\n",
       "<table border=\"1\" class=\"dataframe\">\n",
       "  <thead>\n",
       "    <tr style=\"text-align: right;\">\n",
       "      <th></th>\n",
       "      <th>APMC</th>\n",
       "      <th>Commodity</th>\n",
       "      <th>Month</th>\n",
       "      <th>arrivals_in_qtl</th>\n",
       "      <th>min_price</th>\n",
       "      <th>max_price</th>\n",
       "      <th>modal_price</th>\n",
       "      <th>date</th>\n",
       "      <th>district_name</th>\n",
       "      <th>state_name</th>\n",
       "      <th>Year_2014</th>\n",
       "      <th>Year_2015</th>\n",
       "      <th>Year_2016</th>\n",
       "    </tr>\n",
       "  </thead>\n",
       "  <tbody>\n",
       "    <tr>\n",
       "      <th>0</th>\n",
       "      <td>Ahmednagar</td>\n",
       "      <td>Bajri</td>\n",
       "      <td>April</td>\n",
       "      <td>79</td>\n",
       "      <td>1406</td>\n",
       "      <td>1538</td>\n",
       "      <td>1463</td>\n",
       "      <td>2015-04-01</td>\n",
       "      <td>Ahmadnagar</td>\n",
       "      <td>Maharashtra</td>\n",
       "      <td>0</td>\n",
       "      <td>1</td>\n",
       "      <td>0</td>\n",
       "    </tr>\n",
       "    <tr>\n",
       "      <th>1</th>\n",
       "      <td>Ahmednagar</td>\n",
       "      <td>Bajri</td>\n",
       "      <td>April</td>\n",
       "      <td>106</td>\n",
       "      <td>1788</td>\n",
       "      <td>1925</td>\n",
       "      <td>1875</td>\n",
       "      <td>2016-04-01</td>\n",
       "      <td>Ahmadnagar</td>\n",
       "      <td>Maharashtra</td>\n",
       "      <td>0</td>\n",
       "      <td>0</td>\n",
       "      <td>1</td>\n",
       "    </tr>\n",
       "    <tr>\n",
       "      <th>2</th>\n",
       "      <td>Ahmednagar</td>\n",
       "      <td>Wheat(Husked)</td>\n",
       "      <td>April</td>\n",
       "      <td>1253</td>\n",
       "      <td>1572</td>\n",
       "      <td>1890</td>\n",
       "      <td>1731</td>\n",
       "      <td>2015-04-01</td>\n",
       "      <td>Ahmadnagar</td>\n",
       "      <td>Maharashtra</td>\n",
       "      <td>0</td>\n",
       "      <td>1</td>\n",
       "      <td>0</td>\n",
       "    </tr>\n",
       "    <tr>\n",
       "      <th>3</th>\n",
       "      <td>Ahmednagar</td>\n",
       "      <td>Wheat(Husked)</td>\n",
       "      <td>April</td>\n",
       "      <td>387</td>\n",
       "      <td>1750</td>\n",
       "      <td>2220</td>\n",
       "      <td>1999</td>\n",
       "      <td>2016-04-01</td>\n",
       "      <td>Ahmadnagar</td>\n",
       "      <td>Maharashtra</td>\n",
       "      <td>0</td>\n",
       "      <td>0</td>\n",
       "      <td>1</td>\n",
       "    </tr>\n",
       "    <tr>\n",
       "      <th>5</th>\n",
       "      <td>Ahmednagar</td>\n",
       "      <td>Sorgum(Jawar)</td>\n",
       "      <td>April</td>\n",
       "      <td>2093</td>\n",
       "      <td>1695</td>\n",
       "      <td>2454</td>\n",
       "      <td>2119</td>\n",
       "      <td>2016-04-01</td>\n",
       "      <td>Ahmadnagar</td>\n",
       "      <td>Maharashtra</td>\n",
       "      <td>0</td>\n",
       "      <td>0</td>\n",
       "      <td>1</td>\n",
       "    </tr>\n",
       "  </tbody>\n",
       "</table>\n",
       "</div>"
      ],
      "text/plain": [
       "         APMC      Commodity  Month  arrivals_in_qtl  min_price  max_price  \\\n",
       "0  Ahmednagar          Bajri  April               79       1406       1538   \n",
       "1  Ahmednagar          Bajri  April              106       1788       1925   \n",
       "2  Ahmednagar  Wheat(Husked)  April             1253       1572       1890   \n",
       "3  Ahmednagar  Wheat(Husked)  April              387       1750       2220   \n",
       "5  Ahmednagar  Sorgum(Jawar)  April             2093       1695       2454   \n",
       "\n",
       "   modal_price       date district_name   state_name  Year_2014  Year_2015  \\\n",
       "0         1463 2015-04-01    Ahmadnagar  Maharashtra          0          1   \n",
       "1         1875 2016-04-01    Ahmadnagar  Maharashtra          0          0   \n",
       "2         1731 2015-04-01    Ahmadnagar  Maharashtra          0          1   \n",
       "3         1999 2016-04-01    Ahmadnagar  Maharashtra          0          0   \n",
       "5         2119 2016-04-01    Ahmadnagar  Maharashtra          0          0   \n",
       "\n",
       "   Year_2016  \n",
       "0          0  \n",
       "1          1  \n",
       "2          0  \n",
       "3          1  \n",
       "5          1  "
      ]
     },
     "execution_count": 45,
     "metadata": {},
     "output_type": "execute_result"
    }
   ],
   "source": [
    "## Before encoding\n",
    "df3.head()"
   ]
  },
  {
   "cell_type": "code",
   "execution_count": 46,
   "id": "b1341862",
   "metadata": {},
   "outputs": [],
   "source": [
    "## To see all the columns of the dataset\n",
    "pd.set_option('display.max_columns', None)"
   ]
  },
  {
   "cell_type": "code",
   "execution_count": 47,
   "id": "77dbfe5c",
   "metadata": {},
   "outputs": [
    {
     "data": {
      "text/html": [
       "<div>\n",
       "<style scoped>\n",
       "    .dataframe tbody tr th:only-of-type {\n",
       "        vertical-align: middle;\n",
       "    }\n",
       "\n",
       "    .dataframe tbody tr th {\n",
       "        vertical-align: top;\n",
       "    }\n",
       "\n",
       "    .dataframe thead th {\n",
       "        text-align: right;\n",
       "    }\n",
       "</style>\n",
       "<table border=\"1\" class=\"dataframe\">\n",
       "  <thead>\n",
       "    <tr style=\"text-align: right;\">\n",
       "      <th></th>\n",
       "      <th>APMC_0</th>\n",
       "      <th>APMC_1</th>\n",
       "      <th>APMC_2</th>\n",
       "      <th>APMC_3</th>\n",
       "      <th>APMC_4</th>\n",
       "      <th>APMC_5</th>\n",
       "      <th>Commodity_0</th>\n",
       "      <th>Commodity_1</th>\n",
       "      <th>Commodity_2</th>\n",
       "      <th>Commodity_3</th>\n",
       "      <th>Commodity_4</th>\n",
       "      <th>Commodity_5</th>\n",
       "      <th>Month</th>\n",
       "      <th>arrivals_in_qtl</th>\n",
       "      <th>min_price</th>\n",
       "      <th>max_price</th>\n",
       "      <th>modal_price</th>\n",
       "      <th>date</th>\n",
       "      <th>district_name_0</th>\n",
       "      <th>district_name_1</th>\n",
       "      <th>district_name_2</th>\n",
       "      <th>district_name_3</th>\n",
       "      <th>state_name</th>\n",
       "      <th>Year_2014</th>\n",
       "      <th>Year_2015</th>\n",
       "      <th>Year_2016</th>\n",
       "    </tr>\n",
       "  </thead>\n",
       "  <tbody>\n",
       "    <tr>\n",
       "      <th>0</th>\n",
       "      <td>0</td>\n",
       "      <td>0</td>\n",
       "      <td>0</td>\n",
       "      <td>0</td>\n",
       "      <td>0</td>\n",
       "      <td>1</td>\n",
       "      <td>0</td>\n",
       "      <td>0</td>\n",
       "      <td>0</td>\n",
       "      <td>0</td>\n",
       "      <td>0</td>\n",
       "      <td>1</td>\n",
       "      <td>April</td>\n",
       "      <td>79</td>\n",
       "      <td>1406</td>\n",
       "      <td>1538</td>\n",
       "      <td>1463</td>\n",
       "      <td>2015-04-01</td>\n",
       "      <td>0</td>\n",
       "      <td>0</td>\n",
       "      <td>0</td>\n",
       "      <td>1</td>\n",
       "      <td>Maharashtra</td>\n",
       "      <td>0</td>\n",
       "      <td>1</td>\n",
       "      <td>0</td>\n",
       "    </tr>\n",
       "    <tr>\n",
       "      <th>1</th>\n",
       "      <td>0</td>\n",
       "      <td>0</td>\n",
       "      <td>0</td>\n",
       "      <td>0</td>\n",
       "      <td>0</td>\n",
       "      <td>1</td>\n",
       "      <td>0</td>\n",
       "      <td>0</td>\n",
       "      <td>0</td>\n",
       "      <td>0</td>\n",
       "      <td>0</td>\n",
       "      <td>1</td>\n",
       "      <td>April</td>\n",
       "      <td>106</td>\n",
       "      <td>1788</td>\n",
       "      <td>1925</td>\n",
       "      <td>1875</td>\n",
       "      <td>2016-04-01</td>\n",
       "      <td>0</td>\n",
       "      <td>0</td>\n",
       "      <td>0</td>\n",
       "      <td>1</td>\n",
       "      <td>Maharashtra</td>\n",
       "      <td>0</td>\n",
       "      <td>0</td>\n",
       "      <td>1</td>\n",
       "    </tr>\n",
       "    <tr>\n",
       "      <th>2</th>\n",
       "      <td>0</td>\n",
       "      <td>0</td>\n",
       "      <td>0</td>\n",
       "      <td>0</td>\n",
       "      <td>0</td>\n",
       "      <td>1</td>\n",
       "      <td>0</td>\n",
       "      <td>0</td>\n",
       "      <td>0</td>\n",
       "      <td>0</td>\n",
       "      <td>0</td>\n",
       "      <td>2</td>\n",
       "      <td>April</td>\n",
       "      <td>1253</td>\n",
       "      <td>1572</td>\n",
       "      <td>1890</td>\n",
       "      <td>1731</td>\n",
       "      <td>2015-04-01</td>\n",
       "      <td>0</td>\n",
       "      <td>0</td>\n",
       "      <td>0</td>\n",
       "      <td>1</td>\n",
       "      <td>Maharashtra</td>\n",
       "      <td>0</td>\n",
       "      <td>1</td>\n",
       "      <td>0</td>\n",
       "    </tr>\n",
       "    <tr>\n",
       "      <th>3</th>\n",
       "      <td>0</td>\n",
       "      <td>0</td>\n",
       "      <td>0</td>\n",
       "      <td>0</td>\n",
       "      <td>0</td>\n",
       "      <td>1</td>\n",
       "      <td>0</td>\n",
       "      <td>0</td>\n",
       "      <td>0</td>\n",
       "      <td>0</td>\n",
       "      <td>0</td>\n",
       "      <td>2</td>\n",
       "      <td>April</td>\n",
       "      <td>387</td>\n",
       "      <td>1750</td>\n",
       "      <td>2220</td>\n",
       "      <td>1999</td>\n",
       "      <td>2016-04-01</td>\n",
       "      <td>0</td>\n",
       "      <td>0</td>\n",
       "      <td>0</td>\n",
       "      <td>1</td>\n",
       "      <td>Maharashtra</td>\n",
       "      <td>0</td>\n",
       "      <td>0</td>\n",
       "      <td>1</td>\n",
       "    </tr>\n",
       "    <tr>\n",
       "      <th>5</th>\n",
       "      <td>0</td>\n",
       "      <td>0</td>\n",
       "      <td>0</td>\n",
       "      <td>0</td>\n",
       "      <td>0</td>\n",
       "      <td>1</td>\n",
       "      <td>0</td>\n",
       "      <td>0</td>\n",
       "      <td>0</td>\n",
       "      <td>0</td>\n",
       "      <td>1</td>\n",
       "      <td>0</td>\n",
       "      <td>April</td>\n",
       "      <td>2093</td>\n",
       "      <td>1695</td>\n",
       "      <td>2454</td>\n",
       "      <td>2119</td>\n",
       "      <td>2016-04-01</td>\n",
       "      <td>0</td>\n",
       "      <td>0</td>\n",
       "      <td>0</td>\n",
       "      <td>1</td>\n",
       "      <td>Maharashtra</td>\n",
       "      <td>0</td>\n",
       "      <td>0</td>\n",
       "      <td>1</td>\n",
       "    </tr>\n",
       "  </tbody>\n",
       "</table>\n",
       "</div>"
      ],
      "text/plain": [
       "   APMC_0  APMC_1  APMC_2  APMC_3  APMC_4  APMC_5  Commodity_0  Commodity_1  \\\n",
       "0       0       0       0       0       0       1            0            0   \n",
       "1       0       0       0       0       0       1            0            0   \n",
       "2       0       0       0       0       0       1            0            0   \n",
       "3       0       0       0       0       0       1            0            0   \n",
       "5       0       0       0       0       0       1            0            0   \n",
       "\n",
       "   Commodity_2  Commodity_3  Commodity_4  Commodity_5  Month  arrivals_in_qtl  \\\n",
       "0            0            0            0            1  April               79   \n",
       "1            0            0            0            1  April              106   \n",
       "2            0            0            0            2  April             1253   \n",
       "3            0            0            0            2  April              387   \n",
       "5            0            0            1            0  April             2093   \n",
       "\n",
       "   min_price  max_price  modal_price       date  district_name_0  \\\n",
       "0       1406       1538         1463 2015-04-01                0   \n",
       "1       1788       1925         1875 2016-04-01                0   \n",
       "2       1572       1890         1731 2015-04-01                0   \n",
       "3       1750       2220         1999 2016-04-01                0   \n",
       "5       1695       2454         2119 2016-04-01                0   \n",
       "\n",
       "   district_name_1  district_name_2  district_name_3   state_name  Year_2014  \\\n",
       "0                0                0                1  Maharashtra          0   \n",
       "1                0                0                1  Maharashtra          0   \n",
       "2                0                0                1  Maharashtra          0   \n",
       "3                0                0                1  Maharashtra          0   \n",
       "5                0                0                1  Maharashtra          0   \n",
       "\n",
       "   Year_2015  Year_2016  \n",
       "0          1          0  \n",
       "1          0          1  \n",
       "2          1          0  \n",
       "3          0          1  \n",
       "5          0          1  "
      ]
     },
     "execution_count": 47,
     "metadata": {},
     "output_type": "execute_result"
    }
   ],
   "source": [
    "#After encoding\n",
    "data_encoded=encoder.fit_transform(df3)\n",
    "data_encoded.head()"
   ]
  },
  {
   "cell_type": "code",
   "execution_count": 48,
   "id": "534e705b",
   "metadata": {},
   "outputs": [],
   "source": [
    "## Droping unwanted column \n",
    "data_encoded=data_encoded.drop(['Month','state_name'],axis=1)"
   ]
  },
  {
   "cell_type": "code",
   "execution_count": 49,
   "id": "6b539139",
   "metadata": {},
   "outputs": [
    {
     "data": {
      "text/plain": [
       "APMC_0                      int64\n",
       "APMC_1                      int64\n",
       "APMC_2                      int64\n",
       "APMC_3                      int64\n",
       "APMC_4                      int64\n",
       "APMC_5                      int64\n",
       "Commodity_0                 int64\n",
       "Commodity_1                 int64\n",
       "Commodity_2                 int64\n",
       "Commodity_3                 int64\n",
       "Commodity_4                 int64\n",
       "Commodity_5                 int64\n",
       "arrivals_in_qtl             int64\n",
       "min_price                   int64\n",
       "max_price                   int64\n",
       "modal_price                 int64\n",
       "date               datetime64[ns]\n",
       "district_name_0             int64\n",
       "district_name_1             int64\n",
       "district_name_2             int64\n",
       "district_name_3             int64\n",
       "Year_2014                   uint8\n",
       "Year_2015                   uint8\n",
       "Year_2016                   uint8\n",
       "dtype: object"
      ]
     },
     "execution_count": 49,
     "metadata": {},
     "output_type": "execute_result"
    }
   ],
   "source": [
    "## Data types of the current dataframe\n",
    "data_encoded.dtypes"
   ]
  },
  {
   "cell_type": "code",
   "execution_count": 50,
   "id": "d6d7adc0",
   "metadata": {},
   "outputs": [
    {
     "data": {
      "text/html": [
       "<div>\n",
       "<style scoped>\n",
       "    .dataframe tbody tr th:only-of-type {\n",
       "        vertical-align: middle;\n",
       "    }\n",
       "\n",
       "    .dataframe tbody tr th {\n",
       "        vertical-align: top;\n",
       "    }\n",
       "\n",
       "    .dataframe thead th {\n",
       "        text-align: right;\n",
       "    }\n",
       "</style>\n",
       "<table border=\"1\" class=\"dataframe\">\n",
       "  <thead>\n",
       "    <tr style=\"text-align: right;\">\n",
       "      <th></th>\n",
       "      <th>APMC_0</th>\n",
       "      <th>APMC_1</th>\n",
       "      <th>APMC_2</th>\n",
       "      <th>APMC_3</th>\n",
       "      <th>APMC_4</th>\n",
       "      <th>APMC_5</th>\n",
       "      <th>Commodity_0</th>\n",
       "      <th>Commodity_1</th>\n",
       "      <th>Commodity_2</th>\n",
       "      <th>Commodity_3</th>\n",
       "      <th>Commodity_4</th>\n",
       "      <th>Commodity_5</th>\n",
       "      <th>arrivals_in_qtl</th>\n",
       "      <th>min_price</th>\n",
       "      <th>max_price</th>\n",
       "      <th>modal_price</th>\n",
       "      <th>district_name_0</th>\n",
       "      <th>district_name_1</th>\n",
       "      <th>district_name_2</th>\n",
       "      <th>district_name_3</th>\n",
       "      <th>Year_2014</th>\n",
       "      <th>Year_2015</th>\n",
       "      <th>Year_2016</th>\n",
       "    </tr>\n",
       "  </thead>\n",
       "  <tbody>\n",
       "    <tr>\n",
       "      <th>count</th>\n",
       "      <td>48822.000000</td>\n",
       "      <td>48822.000000</td>\n",
       "      <td>48822.000000</td>\n",
       "      <td>48822.000000</td>\n",
       "      <td>48822.000000</td>\n",
       "      <td>48822.000000</td>\n",
       "      <td>48822.000000</td>\n",
       "      <td>48822.000000</td>\n",
       "      <td>48822.000000</td>\n",
       "      <td>48822.000000</td>\n",
       "      <td>48822.000000</td>\n",
       "      <td>48822.000000</td>\n",
       "      <td>48822.000000</td>\n",
       "      <td>48822.000000</td>\n",
       "      <td>48822.000000</td>\n",
       "      <td>48822.000000</td>\n",
       "      <td>48822.000000</td>\n",
       "      <td>48822.000000</td>\n",
       "      <td>48822.000000</td>\n",
       "      <td>48822.000000</td>\n",
       "      <td>48822.000000</td>\n",
       "      <td>48822.000000</td>\n",
       "      <td>48822.000000</td>\n",
       "    </tr>\n",
       "    <tr>\n",
       "      <th>mean</th>\n",
       "      <td>0.323584</td>\n",
       "      <td>0.661382</td>\n",
       "      <td>0.964811</td>\n",
       "      <td>0.809000</td>\n",
       "      <td>0.912724</td>\n",
       "      <td>0.957232</td>\n",
       "      <td>0.010385</td>\n",
       "      <td>0.169288</td>\n",
       "      <td>0.521179</td>\n",
       "      <td>0.616239</td>\n",
       "      <td>0.837778</td>\n",
       "      <td>1.127832</td>\n",
       "      <td>434.456925</td>\n",
       "      <td>2518.195916</td>\n",
       "      <td>3091.000922</td>\n",
       "      <td>2820.794969</td>\n",
       "      <td>0.219082</td>\n",
       "      <td>0.835771</td>\n",
       "      <td>0.897034</td>\n",
       "      <td>0.827926</td>\n",
       "      <td>0.130474</td>\n",
       "      <td>0.410614</td>\n",
       "      <td>0.458912</td>\n",
       "    </tr>\n",
       "    <tr>\n",
       "      <th>std</th>\n",
       "      <td>0.467848</td>\n",
       "      <td>0.826404</td>\n",
       "      <td>0.802609</td>\n",
       "      <td>0.789335</td>\n",
       "      <td>0.806117</td>\n",
       "      <td>0.779264</td>\n",
       "      <td>0.101376</td>\n",
       "      <td>0.471898</td>\n",
       "      <td>0.738271</td>\n",
       "      <td>0.762540</td>\n",
       "      <td>0.769271</td>\n",
       "      <td>0.834411</td>\n",
       "      <td>679.713121</td>\n",
       "      <td>1781.338440</td>\n",
       "      <td>1926.575827</td>\n",
       "      <td>1845.320987</td>\n",
       "      <td>0.413628</td>\n",
       "      <td>0.900435</td>\n",
       "      <td>0.795764</td>\n",
       "      <td>0.782291</td>\n",
       "      <td>0.336828</td>\n",
       "      <td>0.491950</td>\n",
       "      <td>0.498314</td>\n",
       "    </tr>\n",
       "    <tr>\n",
       "      <th>min</th>\n",
       "      <td>0.000000</td>\n",
       "      <td>0.000000</td>\n",
       "      <td>0.000000</td>\n",
       "      <td>0.000000</td>\n",
       "      <td>0.000000</td>\n",
       "      <td>0.000000</td>\n",
       "      <td>0.000000</td>\n",
       "      <td>0.000000</td>\n",
       "      <td>0.000000</td>\n",
       "      <td>0.000000</td>\n",
       "      <td>0.000000</td>\n",
       "      <td>0.000000</td>\n",
       "      <td>1.000000</td>\n",
       "      <td>0.000000</td>\n",
       "      <td>0.000000</td>\n",
       "      <td>0.000000</td>\n",
       "      <td>0.000000</td>\n",
       "      <td>0.000000</td>\n",
       "      <td>0.000000</td>\n",
       "      <td>0.000000</td>\n",
       "      <td>0.000000</td>\n",
       "      <td>0.000000</td>\n",
       "      <td>0.000000</td>\n",
       "    </tr>\n",
       "    <tr>\n",
       "      <th>25%</th>\n",
       "      <td>0.000000</td>\n",
       "      <td>0.000000</td>\n",
       "      <td>0.000000</td>\n",
       "      <td>0.000000</td>\n",
       "      <td>0.000000</td>\n",
       "      <td>0.000000</td>\n",
       "      <td>0.000000</td>\n",
       "      <td>0.000000</td>\n",
       "      <td>0.000000</td>\n",
       "      <td>0.000000</td>\n",
       "      <td>0.000000</td>\n",
       "      <td>0.000000</td>\n",
       "      <td>27.000000</td>\n",
       "      <td>1265.000000</td>\n",
       "      <td>1574.000000</td>\n",
       "      <td>1446.000000</td>\n",
       "      <td>0.000000</td>\n",
       "      <td>0.000000</td>\n",
       "      <td>0.000000</td>\n",
       "      <td>0.000000</td>\n",
       "      <td>0.000000</td>\n",
       "      <td>0.000000</td>\n",
       "      <td>0.000000</td>\n",
       "    </tr>\n",
       "    <tr>\n",
       "      <th>50%</th>\n",
       "      <td>0.000000</td>\n",
       "      <td>0.000000</td>\n",
       "      <td>1.000000</td>\n",
       "      <td>1.000000</td>\n",
       "      <td>1.000000</td>\n",
       "      <td>1.000000</td>\n",
       "      <td>0.000000</td>\n",
       "      <td>0.000000</td>\n",
       "      <td>0.000000</td>\n",
       "      <td>0.000000</td>\n",
       "      <td>1.000000</td>\n",
       "      <td>1.000000</td>\n",
       "      <td>126.000000</td>\n",
       "      <td>1820.000000</td>\n",
       "      <td>2571.000000</td>\n",
       "      <td>2223.000000</td>\n",
       "      <td>0.000000</td>\n",
       "      <td>0.000000</td>\n",
       "      <td>1.000000</td>\n",
       "      <td>1.000000</td>\n",
       "      <td>0.000000</td>\n",
       "      <td>0.000000</td>\n",
       "      <td>0.000000</td>\n",
       "    </tr>\n",
       "    <tr>\n",
       "      <th>75%</th>\n",
       "      <td>1.000000</td>\n",
       "      <td>1.000000</td>\n",
       "      <td>2.000000</td>\n",
       "      <td>1.000000</td>\n",
       "      <td>2.000000</td>\n",
       "      <td>2.000000</td>\n",
       "      <td>0.000000</td>\n",
       "      <td>0.000000</td>\n",
       "      <td>1.000000</td>\n",
       "      <td>1.000000</td>\n",
       "      <td>1.000000</td>\n",
       "      <td>2.000000</td>\n",
       "      <td>510.000000</td>\n",
       "      <td>3508.000000</td>\n",
       "      <td>4225.000000</td>\n",
       "      <td>3901.000000</td>\n",
       "      <td>0.000000</td>\n",
       "      <td>2.000000</td>\n",
       "      <td>2.000000</td>\n",
       "      <td>1.000000</td>\n",
       "      <td>0.000000</td>\n",
       "      <td>1.000000</td>\n",
       "      <td>1.000000</td>\n",
       "    </tr>\n",
       "    <tr>\n",
       "      <th>max</th>\n",
       "      <td>1.000000</td>\n",
       "      <td>2.000000</td>\n",
       "      <td>2.000000</td>\n",
       "      <td>2.000000</td>\n",
       "      <td>2.000000</td>\n",
       "      <td>2.000000</td>\n",
       "      <td>1.000000</td>\n",
       "      <td>2.000000</td>\n",
       "      <td>2.000000</td>\n",
       "      <td>2.000000</td>\n",
       "      <td>2.000000</td>\n",
       "      <td>2.000000</td>\n",
       "      <td>3353.000000</td>\n",
       "      <td>7892.000000</td>\n",
       "      <td>8760.000000</td>\n",
       "      <td>7825.000000</td>\n",
       "      <td>1.000000</td>\n",
       "      <td>2.000000</td>\n",
       "      <td>2.000000</td>\n",
       "      <td>2.000000</td>\n",
       "      <td>1.000000</td>\n",
       "      <td>1.000000</td>\n",
       "      <td>1.000000</td>\n",
       "    </tr>\n",
       "  </tbody>\n",
       "</table>\n",
       "</div>"
      ],
      "text/plain": [
       "             APMC_0        APMC_1        APMC_2        APMC_3        APMC_4  \\\n",
       "count  48822.000000  48822.000000  48822.000000  48822.000000  48822.000000   \n",
       "mean       0.323584      0.661382      0.964811      0.809000      0.912724   \n",
       "std        0.467848      0.826404      0.802609      0.789335      0.806117   \n",
       "min        0.000000      0.000000      0.000000      0.000000      0.000000   \n",
       "25%        0.000000      0.000000      0.000000      0.000000      0.000000   \n",
       "50%        0.000000      0.000000      1.000000      1.000000      1.000000   \n",
       "75%        1.000000      1.000000      2.000000      1.000000      2.000000   \n",
       "max        1.000000      2.000000      2.000000      2.000000      2.000000   \n",
       "\n",
       "             APMC_5   Commodity_0   Commodity_1   Commodity_2   Commodity_3  \\\n",
       "count  48822.000000  48822.000000  48822.000000  48822.000000  48822.000000   \n",
       "mean       0.957232      0.010385      0.169288      0.521179      0.616239   \n",
       "std        0.779264      0.101376      0.471898      0.738271      0.762540   \n",
       "min        0.000000      0.000000      0.000000      0.000000      0.000000   \n",
       "25%        0.000000      0.000000      0.000000      0.000000      0.000000   \n",
       "50%        1.000000      0.000000      0.000000      0.000000      0.000000   \n",
       "75%        2.000000      0.000000      0.000000      1.000000      1.000000   \n",
       "max        2.000000      1.000000      2.000000      2.000000      2.000000   \n",
       "\n",
       "        Commodity_4   Commodity_5  arrivals_in_qtl     min_price  \\\n",
       "count  48822.000000  48822.000000     48822.000000  48822.000000   \n",
       "mean       0.837778      1.127832       434.456925   2518.195916   \n",
       "std        0.769271      0.834411       679.713121   1781.338440   \n",
       "min        0.000000      0.000000         1.000000      0.000000   \n",
       "25%        0.000000      0.000000        27.000000   1265.000000   \n",
       "50%        1.000000      1.000000       126.000000   1820.000000   \n",
       "75%        1.000000      2.000000       510.000000   3508.000000   \n",
       "max        2.000000      2.000000      3353.000000   7892.000000   \n",
       "\n",
       "          max_price   modal_price  district_name_0  district_name_1  \\\n",
       "count  48822.000000  48822.000000     48822.000000     48822.000000   \n",
       "mean    3091.000922   2820.794969         0.219082         0.835771   \n",
       "std     1926.575827   1845.320987         0.413628         0.900435   \n",
       "min        0.000000      0.000000         0.000000         0.000000   \n",
       "25%     1574.000000   1446.000000         0.000000         0.000000   \n",
       "50%     2571.000000   2223.000000         0.000000         0.000000   \n",
       "75%     4225.000000   3901.000000         0.000000         2.000000   \n",
       "max     8760.000000   7825.000000         1.000000         2.000000   \n",
       "\n",
       "       district_name_2  district_name_3     Year_2014     Year_2015  \\\n",
       "count     48822.000000     48822.000000  48822.000000  48822.000000   \n",
       "mean          0.897034         0.827926      0.130474      0.410614   \n",
       "std           0.795764         0.782291      0.336828      0.491950   \n",
       "min           0.000000         0.000000      0.000000      0.000000   \n",
       "25%           0.000000         0.000000      0.000000      0.000000   \n",
       "50%           1.000000         1.000000      0.000000      0.000000   \n",
       "75%           2.000000         1.000000      0.000000      1.000000   \n",
       "max           2.000000         2.000000      1.000000      1.000000   \n",
       "\n",
       "          Year_2016  \n",
       "count  48822.000000  \n",
       "mean       0.458912  \n",
       "std        0.498314  \n",
       "min        0.000000  \n",
       "25%        0.000000  \n",
       "50%        0.000000  \n",
       "75%        1.000000  \n",
       "max        1.000000  "
      ]
     },
     "execution_count": 50,
     "metadata": {},
     "output_type": "execute_result"
    }
   ],
   "source": [
    "#6.Scaling\n",
    "## Before scaling\n",
    "data_encoded.describe()"
   ]
  },
  {
   "cell_type": "code",
   "execution_count": 51,
   "id": "7c3325e9",
   "metadata": {},
   "outputs": [
    {
     "data": {
      "text/html": [
       "<div>\n",
       "<style scoped>\n",
       "    .dataframe tbody tr th:only-of-type {\n",
       "        vertical-align: middle;\n",
       "    }\n",
       "\n",
       "    .dataframe tbody tr th {\n",
       "        vertical-align: top;\n",
       "    }\n",
       "\n",
       "    .dataframe thead th {\n",
       "        text-align: right;\n",
       "    }\n",
       "</style>\n",
       "<table border=\"1\" class=\"dataframe\">\n",
       "  <thead>\n",
       "    <tr style=\"text-align: right;\">\n",
       "      <th></th>\n",
       "      <th>APMC_0</th>\n",
       "      <th>APMC_1</th>\n",
       "      <th>APMC_2</th>\n",
       "      <th>APMC_3</th>\n",
       "      <th>APMC_4</th>\n",
       "      <th>APMC_5</th>\n",
       "      <th>Commodity_0</th>\n",
       "      <th>Commodity_1</th>\n",
       "      <th>Commodity_2</th>\n",
       "      <th>Commodity_3</th>\n",
       "      <th>Commodity_4</th>\n",
       "      <th>Commodity_5</th>\n",
       "      <th>arrivals_in_qtl</th>\n",
       "      <th>min_price</th>\n",
       "      <th>max_price</th>\n",
       "      <th>modal_price</th>\n",
       "      <th>date</th>\n",
       "      <th>district_name_0</th>\n",
       "      <th>district_name_1</th>\n",
       "      <th>district_name_2</th>\n",
       "      <th>district_name_3</th>\n",
       "      <th>Year_2014</th>\n",
       "      <th>Year_2015</th>\n",
       "      <th>Year_2016</th>\n",
       "    </tr>\n",
       "  </thead>\n",
       "  <tbody>\n",
       "    <tr>\n",
       "      <th>0</th>\n",
       "      <td>0</td>\n",
       "      <td>0</td>\n",
       "      <td>0</td>\n",
       "      <td>0</td>\n",
       "      <td>0</td>\n",
       "      <td>1</td>\n",
       "      <td>0</td>\n",
       "      <td>0</td>\n",
       "      <td>0</td>\n",
       "      <td>0</td>\n",
       "      <td>0</td>\n",
       "      <td>1</td>\n",
       "      <td>0.023270</td>\n",
       "      <td>0.178155</td>\n",
       "      <td>0.175571</td>\n",
       "      <td>0.186965</td>\n",
       "      <td>2015-04-01</td>\n",
       "      <td>0</td>\n",
       "      <td>0</td>\n",
       "      <td>0</td>\n",
       "      <td>1</td>\n",
       "      <td>0</td>\n",
       "      <td>1</td>\n",
       "      <td>0</td>\n",
       "    </tr>\n",
       "    <tr>\n",
       "      <th>1</th>\n",
       "      <td>0</td>\n",
       "      <td>0</td>\n",
       "      <td>0</td>\n",
       "      <td>0</td>\n",
       "      <td>0</td>\n",
       "      <td>1</td>\n",
       "      <td>0</td>\n",
       "      <td>0</td>\n",
       "      <td>0</td>\n",
       "      <td>0</td>\n",
       "      <td>0</td>\n",
       "      <td>1</td>\n",
       "      <td>0.031325</td>\n",
       "      <td>0.226559</td>\n",
       "      <td>0.219749</td>\n",
       "      <td>0.239617</td>\n",
       "      <td>2016-04-01</td>\n",
       "      <td>0</td>\n",
       "      <td>0</td>\n",
       "      <td>0</td>\n",
       "      <td>1</td>\n",
       "      <td>0</td>\n",
       "      <td>0</td>\n",
       "      <td>1</td>\n",
       "    </tr>\n",
       "    <tr>\n",
       "      <th>2</th>\n",
       "      <td>0</td>\n",
       "      <td>0</td>\n",
       "      <td>0</td>\n",
       "      <td>0</td>\n",
       "      <td>0</td>\n",
       "      <td>1</td>\n",
       "      <td>0</td>\n",
       "      <td>0</td>\n",
       "      <td>0</td>\n",
       "      <td>0</td>\n",
       "      <td>0</td>\n",
       "      <td>2</td>\n",
       "      <td>0.373508</td>\n",
       "      <td>0.199189</td>\n",
       "      <td>0.215753</td>\n",
       "      <td>0.221214</td>\n",
       "      <td>2015-04-01</td>\n",
       "      <td>0</td>\n",
       "      <td>0</td>\n",
       "      <td>0</td>\n",
       "      <td>1</td>\n",
       "      <td>0</td>\n",
       "      <td>1</td>\n",
       "      <td>0</td>\n",
       "    </tr>\n",
       "    <tr>\n",
       "      <th>3</th>\n",
       "      <td>0</td>\n",
       "      <td>0</td>\n",
       "      <td>0</td>\n",
       "      <td>0</td>\n",
       "      <td>0</td>\n",
       "      <td>1</td>\n",
       "      <td>0</td>\n",
       "      <td>0</td>\n",
       "      <td>0</td>\n",
       "      <td>0</td>\n",
       "      <td>0</td>\n",
       "      <td>2</td>\n",
       "      <td>0.115155</td>\n",
       "      <td>0.221744</td>\n",
       "      <td>0.253425</td>\n",
       "      <td>0.255463</td>\n",
       "      <td>2016-04-01</td>\n",
       "      <td>0</td>\n",
       "      <td>0</td>\n",
       "      <td>0</td>\n",
       "      <td>1</td>\n",
       "      <td>0</td>\n",
       "      <td>0</td>\n",
       "      <td>1</td>\n",
       "    </tr>\n",
       "    <tr>\n",
       "      <th>5</th>\n",
       "      <td>0</td>\n",
       "      <td>0</td>\n",
       "      <td>0</td>\n",
       "      <td>0</td>\n",
       "      <td>0</td>\n",
       "      <td>1</td>\n",
       "      <td>0</td>\n",
       "      <td>0</td>\n",
       "      <td>0</td>\n",
       "      <td>0</td>\n",
       "      <td>1</td>\n",
       "      <td>0</td>\n",
       "      <td>0.624105</td>\n",
       "      <td>0.214774</td>\n",
       "      <td>0.280137</td>\n",
       "      <td>0.270799</td>\n",
       "      <td>2016-04-01</td>\n",
       "      <td>0</td>\n",
       "      <td>0</td>\n",
       "      <td>0</td>\n",
       "      <td>1</td>\n",
       "      <td>0</td>\n",
       "      <td>0</td>\n",
       "      <td>1</td>\n",
       "    </tr>\n",
       "  </tbody>\n",
       "</table>\n",
       "</div>"
      ],
      "text/plain": [
       "   APMC_0  APMC_1  APMC_2  APMC_3  APMC_4  APMC_5  Commodity_0  Commodity_1  \\\n",
       "0       0       0       0       0       0       1            0            0   \n",
       "1       0       0       0       0       0       1            0            0   \n",
       "2       0       0       0       0       0       1            0            0   \n",
       "3       0       0       0       0       0       1            0            0   \n",
       "5       0       0       0       0       0       1            0            0   \n",
       "\n",
       "   Commodity_2  Commodity_3  Commodity_4  Commodity_5  arrivals_in_qtl  \\\n",
       "0            0            0            0            1         0.023270   \n",
       "1            0            0            0            1         0.031325   \n",
       "2            0            0            0            2         0.373508   \n",
       "3            0            0            0            2         0.115155   \n",
       "5            0            0            1            0         0.624105   \n",
       "\n",
       "   min_price  max_price  modal_price       date  district_name_0  \\\n",
       "0   0.178155   0.175571     0.186965 2015-04-01                0   \n",
       "1   0.226559   0.219749     0.239617 2016-04-01                0   \n",
       "2   0.199189   0.215753     0.221214 2015-04-01                0   \n",
       "3   0.221744   0.253425     0.255463 2016-04-01                0   \n",
       "5   0.214774   0.280137     0.270799 2016-04-01                0   \n",
       "\n",
       "   district_name_1  district_name_2  district_name_3  Year_2014  Year_2015  \\\n",
       "0                0                0                1          0          1   \n",
       "1                0                0                1          0          0   \n",
       "2                0                0                1          0          1   \n",
       "3                0                0                1          0          0   \n",
       "5                0                0                1          0          0   \n",
       "\n",
       "   Year_2016  \n",
       "0          0  \n",
       "1          1  \n",
       "2          0  \n",
       "3          1  \n",
       "5          1  "
      ]
     },
     "execution_count": 51,
     "metadata": {},
     "output_type": "execute_result"
    }
   ],
   "source": [
    "## Min max scalar\n",
    "## Copy the data\n",
    "df_min_max_scaled = data_encoded.copy()\n",
    "columns=['arrivals_in_qtl','min_price','max_price','modal_price']\n",
    "## Apply normalization techniques\n",
    "for column in columns:\n",
    "    df_min_max_scaled[column] = (df_min_max_scaled[column] - df_min_max_scaled[column].min()) / (df_min_max_scaled[column].max() - df_min_max_scaled[column].min())    \n",
    "## View normalized data\n",
    "df_min_max_scaled.head()"
   ]
  },
  {
   "cell_type": "markdown",
   "id": "15a06558",
   "metadata": {},
   "source": [
    "# Modelling"
   ]
  },
  {
   "cell_type": "code",
   "execution_count": 52,
   "id": "ccdc4ca2",
   "metadata": {},
   "outputs": [],
   "source": [
    "## Assigning depended and independent variables\n",
    "x=df_min_max_scaled.drop(['modal_price','date'],axis=1)\n",
    "y=df_min_max_scaled['modal_price']"
   ]
  },
  {
   "cell_type": "code",
   "execution_count": 53,
   "id": "002d8cc9",
   "metadata": {},
   "outputs": [],
   "source": [
    "## Splilting the dataset\n",
    "from sklearn.model_selection import train_test_split\n",
    "x_train,x_test,y_train,y_test=train_test_split(x,y,random_state=42,test_size=0.25)"
   ]
  },
  {
   "cell_type": "markdown",
   "id": "e607b271",
   "metadata": {},
   "source": [
    "# 1.Linear Regression"
   ]
  },
  {
   "cell_type": "code",
   "execution_count": 54,
   "id": "caabf0a9",
   "metadata": {},
   "outputs": [],
   "source": [
    "## Fitting the lr model\n",
    "from sklearn import linear_model\n",
    "lr=linear_model.LinearRegression()\n",
    "model=lr.fit(x_train,y_train)"
   ]
  },
  {
   "cell_type": "code",
   "execution_count": 55,
   "id": "55fc5ae0",
   "metadata": {},
   "outputs": [],
   "source": [
    "## Predicting the values\n",
    "y_pred=lr.predict(x_test)"
   ]
  },
  {
   "cell_type": "code",
   "execution_count": 56,
   "id": "eb3e91d1",
   "metadata": {},
   "outputs": [
    {
     "name": "stdout",
     "output_type": "stream",
     "text": [
      "MSE is:  0.0007190638690214208\n",
      "r squared: 0.9872817388926115\n"
     ]
    }
   ],
   "source": [
    "## Checking the MSE and r2_score\n",
    "from sklearn.metrics import mean_squared_error,r2_score\n",
    "print(\"MSE is: \",mean_squared_error(y_test,y_pred))\n",
    "print(\"r squared:\",r2_score(y_test,y_pred))"
   ]
  },
  {
   "cell_type": "code",
   "execution_count": 57,
   "id": "a31adc88",
   "metadata": {},
   "outputs": [],
   "source": [
    "temp=[]\n",
    "temp.append([\"Linear Regression\",round(mean_squared_error(y_test,y_pred),5),round(r2_score(y_test,y_pred),5)])"
   ]
  },
  {
   "cell_type": "code",
   "execution_count": 58,
   "id": "9b57e5b1",
   "metadata": {},
   "outputs": [
    {
     "data": {
      "text/plain": [
       "6775     0.178914\n",
       "10202    0.469521\n",
       "58181    0.570990\n",
       "8369     0.202939\n",
       "36694    0.203834\n",
       "Name: modal_price, dtype: float64"
      ]
     },
     "execution_count": 58,
     "metadata": {},
     "output_type": "execute_result"
    }
   ],
   "source": [
    "## Checking the y_test\n",
    "y_test[0:5]"
   ]
  },
  {
   "cell_type": "code",
   "execution_count": 59,
   "id": "859066a3",
   "metadata": {},
   "outputs": [
    {
     "data": {
      "text/plain": [
       "array([0.17554806, 0.45950326, 0.56511326, 0.1997121 , 0.20814715])"
      ]
     },
     "execution_count": 59,
     "metadata": {},
     "output_type": "execute_result"
    }
   ],
   "source": [
    "## Checking the y_pred\n",
    "y_pred[0:5]"
   ]
  },
  {
   "cell_type": "markdown",
   "id": "62e7ebfa",
   "metadata": {},
   "source": [
    "# 2.SVR"
   ]
  },
  {
   "cell_type": "code",
   "execution_count": 60,
   "id": "86f45d19",
   "metadata": {},
   "outputs": [],
   "source": [
    "from sklearn.svm import SVR\n",
    "\n",
    "# Choose regression method and set hyperparameter\n",
    "svr_rbf=SVR(C=1.0, epsilon=0.2, kernel='rbf')\n",
    "\n",
    "# Training of the regression model\n",
    "svr_rbf.fit(x_train, y_train)\n",
    "y_pred = svr_rbf.predict(x_test)\n"
   ]
  },
  {
   "cell_type": "code",
   "execution_count": 61,
   "id": "f1a95c71",
   "metadata": {},
   "outputs": [
    {
     "name": "stdout",
     "output_type": "stream",
     "text": [
      "MSE is:  0.009361494479260685\n",
      "r squared: 0.8344209238260769\n"
     ]
    }
   ],
   "source": [
    "print(\"MSE is: \",mean_squared_error(y_test,y_pred))\n",
    "print(\"r squared:\",r2_score(y_test,y_pred))"
   ]
  },
  {
   "cell_type": "code",
   "execution_count": 62,
   "id": "28f75a63",
   "metadata": {},
   "outputs": [],
   "source": [
    "temp.append([\"SVR\",round(mean_squared_error(y_test,y_pred),5),round(r2_score(y_test,y_pred),5)])"
   ]
  },
  {
   "cell_type": "markdown",
   "id": "42cf4d74",
   "metadata": {},
   "source": [
    "# 3.Random Forest Regressor"
   ]
  },
  {
   "cell_type": "code",
   "execution_count": 63,
   "id": "bb11ee96",
   "metadata": {},
   "outputs": [],
   "source": [
    "from sklearn.ensemble import RandomForestRegressor\n",
    "rm=RandomForestRegressor()\n",
    "rm.fit(x_train,y_train)\n",
    "\n",
    "y_pred=rm.predict(x_test)"
   ]
  },
  {
   "cell_type": "code",
   "execution_count": 64,
   "id": "6aceb8a9",
   "metadata": {},
   "outputs": [
    {
     "name": "stdout",
     "output_type": "stream",
     "text": [
      "MSE is:  0.0005062638984554539\n",
      "r squared: 0.9910455847843342\n"
     ]
    }
   ],
   "source": [
    "print(\"MSE is: \",mean_squared_error(y_test,y_pred))\n",
    "print(\"r squared:\",r2_score(y_test,y_pred))"
   ]
  },
  {
   "cell_type": "code",
   "execution_count": 65,
   "id": "36223460",
   "metadata": {},
   "outputs": [],
   "source": [
    "temp.append([\"RandomForestRegressor\",round(mean_squared_error(y_test,y_pred),5),round(r2_score(y_test,y_pred),5)])"
   ]
  },
  {
   "cell_type": "markdown",
   "id": "0e9b4206",
   "metadata": {},
   "source": [
    "# 4.Decision Tree Algorithm"
   ]
  },
  {
   "cell_type": "code",
   "execution_count": 66,
   "id": "5d64ea26",
   "metadata": {},
   "outputs": [],
   "source": [
    "from sklearn.tree import DecisionTreeRegressor\n",
    "\n",
    "# Build decision tree\n",
    "tree=DecisionTreeRegressor()\n",
    "tree.fit(x_train,y_train)\n",
    "y_pred=tree.predict(x_test)"
   ]
  },
  {
   "cell_type": "code",
   "execution_count": 67,
   "id": "c6b83630",
   "metadata": {},
   "outputs": [
    {
     "name": "stdout",
     "output_type": "stream",
     "text": [
      "MSE is:  0.000951219974386324\n",
      "r squared: 0.9831755362409283\n"
     ]
    }
   ],
   "source": [
    "print(\"MSE is: \",mean_squared_error(y_test,y_pred))\n",
    "print(\"r squared:\",r2_score(y_test,y_pred))"
   ]
  },
  {
   "cell_type": "code",
   "execution_count": 68,
   "id": "342ce4c7",
   "metadata": {},
   "outputs": [],
   "source": [
    "temp.append([\"DecisionTreeRegressor\",round(mean_squared_error(y_test,y_pred),5),round(r2_score(y_test,y_pred),5)])"
   ]
  },
  {
   "cell_type": "code",
   "execution_count": 69,
   "id": "00997bb5",
   "metadata": {},
   "outputs": [],
   "source": [
    "df4 = pd.DataFrame(temp, columns = ['Algorithms', 'MSE','r2_score'])"
   ]
  },
  {
   "cell_type": "code",
   "execution_count": 70,
   "id": "7d39c6d9",
   "metadata": {},
   "outputs": [
    {
     "data": {
      "text/html": [
       "<div>\n",
       "<style scoped>\n",
       "    .dataframe tbody tr th:only-of-type {\n",
       "        vertical-align: middle;\n",
       "    }\n",
       "\n",
       "    .dataframe tbody tr th {\n",
       "        vertical-align: top;\n",
       "    }\n",
       "\n",
       "    .dataframe thead th {\n",
       "        text-align: right;\n",
       "    }\n",
       "</style>\n",
       "<table border=\"1\" class=\"dataframe\">\n",
       "  <thead>\n",
       "    <tr style=\"text-align: right;\">\n",
       "      <th></th>\n",
       "      <th>Algorithms</th>\n",
       "      <th>MSE</th>\n",
       "      <th>r2_score</th>\n",
       "    </tr>\n",
       "  </thead>\n",
       "  <tbody>\n",
       "    <tr>\n",
       "      <th>2</th>\n",
       "      <td>RandomForestRegressor</td>\n",
       "      <td>0.00051</td>\n",
       "      <td>0.99105</td>\n",
       "    </tr>\n",
       "    <tr>\n",
       "      <th>0</th>\n",
       "      <td>Linear Regression</td>\n",
       "      <td>0.00072</td>\n",
       "      <td>0.98728</td>\n",
       "    </tr>\n",
       "    <tr>\n",
       "      <th>3</th>\n",
       "      <td>DecisionTreeRegressor</td>\n",
       "      <td>0.00095</td>\n",
       "      <td>0.98318</td>\n",
       "    </tr>\n",
       "    <tr>\n",
       "      <th>1</th>\n",
       "      <td>SVR</td>\n",
       "      <td>0.00936</td>\n",
       "      <td>0.83442</td>\n",
       "    </tr>\n",
       "  </tbody>\n",
       "</table>\n",
       "</div>"
      ],
      "text/plain": [
       "              Algorithms      MSE  r2_score\n",
       "2  RandomForestRegressor  0.00051   0.99105\n",
       "0      Linear Regression  0.00072   0.98728\n",
       "3  DecisionTreeRegressor  0.00095   0.98318\n",
       "1                    SVR  0.00936   0.83442"
      ]
     },
     "execution_count": 70,
     "metadata": {},
     "output_type": "execute_result"
    }
   ],
   "source": [
    "df4.sort_values(by=['MSE','r2_score'])"
   ]
  },
  {
   "cell_type": "code",
   "execution_count": 71,
   "id": "96e17527",
   "metadata": {},
   "outputs": [],
   "source": [
    "#From above RandomForestRegressor has lowest MSE and highest r2_score. So it is the best algorithm for this problem."
   ]
  },
  {
   "cell_type": "markdown",
   "id": "644f5d2e",
   "metadata": {},
   "source": [
    "# Model Fine Tuning"
   ]
  },
  {
   "cell_type": "code",
   "execution_count": 72,
   "id": "94822436",
   "metadata": {},
   "outputs": [],
   "source": [
    "# Using gridsearch to find the best parameters\n",
    "from sklearn.model_selection import GridSearchCV\n",
    "\n",
    "param_grid = {  'bootstrap': [True,False], 'max_features': ['auto', 'log2','sqrt'], 'n_estimators': [100,150]}"
   ]
  },
  {
   "cell_type": "code",
   "execution_count": 73,
   "id": "b5009f81",
   "metadata": {},
   "outputs": [],
   "source": [
    "g_search = GridSearchCV(estimator = rm, param_grid = param_grid,cv = 3, n_jobs = 1, verbose = 0, return_train_score=True)"
   ]
  },
  {
   "cell_type": "code",
   "execution_count": 77,
   "id": "35ef5f80",
   "metadata": {},
   "outputs": [
    {
     "name": "stdout",
     "output_type": "stream",
     "text": [
      "{'bootstrap': True, 'max_features': 'auto', 'n_estimators': 150}\n"
     ]
    }
   ],
   "source": [
    "## Fitting and printing the best parameters\n",
    "g_search.fit(x_train,y_train);\n",
    "print(g_search.best_params_)"
   ]
  },
  {
   "cell_type": "code",
   "execution_count": 78,
   "id": "17576df6",
   "metadata": {},
   "outputs": [],
   "source": [
    "rm=RandomForestRegressor(bootstrap=True, max_features='auto',n_estimators=150)\n",
    "rm.fit(x_train,y_train)\n",
    "y_pred=rm.predict(x_test)"
   ]
  },
  {
   "cell_type": "code",
   "execution_count": 79,
   "id": "51a9c8e3",
   "metadata": {},
   "outputs": [
    {
     "name": "stdout",
     "output_type": "stream",
     "text": [
      "MSE is:  0.0005037100219315792\n",
      "r squared: 0.9910907558322286\n"
     ]
    }
   ],
   "source": [
    "## slight improvement\n",
    "print(\"MSE is: \",mean_squared_error(y_test,y_pred))\n",
    "print(\"r squared:\",r2_score(y_test,y_pred))"
   ]
  },
  {
   "cell_type": "raw",
   "id": "8666a427",
   "metadata": {},
   "source": [
    "MSE value is decreased and r2_score value has increased."
   ]
  },
  {
   "cell_type": "code",
   "execution_count": null,
   "id": "4a513506",
   "metadata": {},
   "outputs": [],
   "source": []
  }
 ],
 "metadata": {
  "kernelspec": {
   "display_name": "Python 3",
   "language": "python",
   "name": "python3"
  },
  "language_info": {
   "codemirror_mode": {
    "name": "ipython",
    "version": 3
   },
   "file_extension": ".py",
   "mimetype": "text/x-python",
   "name": "python",
   "nbconvert_exporter": "python",
   "pygments_lexer": "ipython3",
   "version": "3.8.8"
  }
 },
 "nbformat": 4,
 "nbformat_minor": 5
}
